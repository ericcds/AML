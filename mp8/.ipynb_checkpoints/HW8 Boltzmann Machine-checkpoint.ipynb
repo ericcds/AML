{
 "cells": [
  {
   "cell_type": "code",
   "execution_count": 2,
   "metadata": {},
   "outputs": [],
   "source": [
    "import mnist\n",
    "import pandas as pd\n",
    "import numpy as np\n",
    "from skimage import transform\n",
    "from PIL import Image\n",
    "from matplotlib import pyplot as plt"
   ]
  },
  {
   "cell_type": "markdown",
   "metadata": {},
   "source": [
    "### Part 1: Obtaining the Dataset"
   ]
  },
  {
   "cell_type": "code",
   "execution_count": 3,
   "metadata": {},
   "outputs": [
    {
     "data": {
      "image/png": "[encoded data removed]",
      "text/plain": [
       "<Figure size 432x288 with 1 Axes>"
      ]
     },
     "metadata": {},
     "output_type": "display_data"
    }
   ],
   "source": [
    "images = mnist.train_images()\n",
    "labels = mnist.train_labels()\n",
    "\n",
    "plt.imshow(images[0], cmap='gray')\n",
    "plt.show()\n",
    "#scipy.misc.toimage(scipy.misc.imresize(images[0,:,:] * -1 + 256, 10.))"
   ]
  },
  {
   "cell_type": "code",
   "execution_count": 4,
   "metadata": {},
   "outputs": [
    {
     "data": {
      "image/png": "[encoded data removed]",
      "text/plain": [
       "<Figure size 432x288 with 1 Axes>"
      ]
     },
     "metadata": {},
     "output_type": "display_data"
    }
   ],
   "source": [
    "binarized_images = images[0:20]\n",
    "binarized_images[binarized_images < 128] = -1\n",
    "binarized_images[binarized_images >= 128] = 1\n",
    "\n",
    "plt.imshow(binarized_images[0], cmap='gray')\n",
    "plt.show()"
   ]
  },
  {
   "cell_type": "markdown",
   "metadata": {},
   "source": [
    "### Part 2: Adding Noise"
   ]
  },
  {
   "cell_type": "code",
   "execution_count": 6,
   "metadata": {},
   "outputs": [
    {
     "data": {
      "text/html": [
       "<div>\n",
       "<style scoped>\n",
       "    .dataframe tbody tr th:only-of-type {\n",
       "        vertical-align: middle;\n",
       "    }\n",
       "\n",
       "    .dataframe tbody tr th {\n",
       "        vertical-align: top;\n",
       "    }\n",
       "\n",
       "    .dataframe thead th {\n",
       "        text-align: right;\n",
       "    }\n",
       "</style>\n",
       "<table border=\"1\" class=\"dataframe\">\n",
       "  <thead>\n",
       "    <tr style=\"text-align: right;\">\n",
       "      <th></th>\n",
       "      <th>Row Description</th>\n",
       "      <th>Noisy bit 0</th>\n",
       "      <th>Noisy bit 1</th>\n",
       "      <th>Noisy bit 2</th>\n",
       "      <th>Noisy bit 3</th>\n",
       "      <th>Noisy bit 4</th>\n",
       "      <th>Noisy bit 5</th>\n",
       "      <th>Noisy bit 6</th>\n",
       "      <th>Noisy bit 7</th>\n",
       "      <th>Noisy bit 8</th>\n",
       "      <th>Noisy bit 9</th>\n",
       "      <th>Noisy bit 10</th>\n",
       "      <th>Noisy bit 11</th>\n",
       "      <th>Noisy bit 12</th>\n",
       "      <th>Noisy bit 13</th>\n",
       "      <th>Noisy bit 14</th>\n",
       "    </tr>\n",
       "  </thead>\n",
       "  <tbody>\n",
       "    <tr>\n",
       "      <th>0</th>\n",
       "      <td>Image 0 Row</td>\n",
       "      <td>21</td>\n",
       "      <td>3</td>\n",
       "      <td>10</td>\n",
       "      <td>27</td>\n",
       "      <td>19</td>\n",
       "      <td>24</td>\n",
       "      <td>7</td>\n",
       "      <td>0</td>\n",
       "      <td>25</td>\n",
       "      <td>6</td>\n",
       "      <td>7</td>\n",
       "      <td>15</td>\n",
       "      <td>14</td>\n",
       "      <td>17</td>\n",
       "      <td>23</td>\n",
       "    </tr>\n",
       "    <tr>\n",
       "      <th>1</th>\n",
       "      <td>Image 0 Column</td>\n",
       "      <td>17</td>\n",
       "      <td>17</td>\n",
       "      <td>22</td>\n",
       "      <td>9</td>\n",
       "      <td>20</td>\n",
       "      <td>5</td>\n",
       "      <td>2</td>\n",
       "      <td>3</td>\n",
       "      <td>12</td>\n",
       "      <td>26</td>\n",
       "      <td>5</td>\n",
       "      <td>24</td>\n",
       "      <td>6</td>\n",
       "      <td>23</td>\n",
       "      <td>3</td>\n",
       "    </tr>\n",
       "    <tr>\n",
       "      <th>2</th>\n",
       "      <td>Image 1 Row</td>\n",
       "      <td>26</td>\n",
       "      <td>9</td>\n",
       "      <td>4</td>\n",
       "      <td>0</td>\n",
       "      <td>20</td>\n",
       "      <td>5</td>\n",
       "      <td>23</td>\n",
       "      <td>3</td>\n",
       "      <td>14</td>\n",
       "      <td>21</td>\n",
       "      <td>15</td>\n",
       "      <td>2</td>\n",
       "      <td>15</td>\n",
       "      <td>3</td>\n",
       "      <td>27</td>\n",
       "    </tr>\n",
       "    <tr>\n",
       "      <th>3</th>\n",
       "      <td>Image 1 Column</td>\n",
       "      <td>17</td>\n",
       "      <td>3</td>\n",
       "      <td>20</td>\n",
       "      <td>22</td>\n",
       "      <td>6</td>\n",
       "      <td>24</td>\n",
       "      <td>18</td>\n",
       "      <td>10</td>\n",
       "      <td>20</td>\n",
       "      <td>8</td>\n",
       "      <td>21</td>\n",
       "      <td>20</td>\n",
       "      <td>24</td>\n",
       "      <td>1</td>\n",
       "      <td>7</td>\n",
       "    </tr>\n",
       "    <tr>\n",
       "      <th>4</th>\n",
       "      <td>Image 2 Row</td>\n",
       "      <td>13</td>\n",
       "      <td>24</td>\n",
       "      <td>24</td>\n",
       "      <td>11</td>\n",
       "      <td>0</td>\n",
       "      <td>11</td>\n",
       "      <td>26</td>\n",
       "      <td>18</td>\n",
       "      <td>12</td>\n",
       "      <td>12</td>\n",
       "      <td>17</td>\n",
       "      <td>8</td>\n",
       "      <td>20</td>\n",
       "      <td>0</td>\n",
       "      <td>6</td>\n",
       "    </tr>\n",
       "  </tbody>\n",
       "</table>\n",
       "</div>"
      ],
      "text/plain": [
       "  Row Description  Noisy bit 0  Noisy bit 1  Noisy bit 2  Noisy bit 3  \\\n",
       "0     Image 0 Row           21            3           10           27   \n",
       "1  Image 0 Column           17           17           22            9   \n",
       "2     Image 1 Row           26            9            4            0   \n",
       "3  Image 1 Column           17            3           20           22   \n",
       "4     Image 2 Row           13           24           24           11   \n",
       "\n",
       "   Noisy bit 4  Noisy bit 5  Noisy bit 6  Noisy bit 7  Noisy bit 8  \\\n",
       "0           19           24            7            0           25   \n",
       "1           20            5            2            3           12   \n",
       "2           20            5           23            3           14   \n",
       "3            6           24           18           10           20   \n",
       "4            0           11           26           18           12   \n",
       "\n",
       "   Noisy bit 9  Noisy bit 10  Noisy bit 11  Noisy bit 12  Noisy bit 13  \\\n",
       "0            6             7            15            14            17   \n",
       "1           26             5            24             6            23   \n",
       "2           21            15             2            15             3   \n",
       "3            8            21            20            24             1   \n",
       "4           12            17             8            20             0   \n",
       "\n",
       "   Noisy bit 14  \n",
       "0            23  \n",
       "1             3  \n",
       "2            27  \n",
       "3             7  \n",
       "4             6  "
      ]
     },
     "execution_count": 6,
     "metadata": {},
     "output_type": "execute_result"
    }
   ],
   "source": [
    "import pandas as pd\n",
    "dfNoise = pd.read_csv('/Users/eric/MCSDS/AML/mp8/SupplementaryAndSampleData/NoiseCoordinates.csv')\n",
    "dfNoise.head()"
   ]
  },
  {
   "cell_type": "code",
   "execution_count": 7,
   "metadata": {},
   "outputs": [],
   "source": [
    "x = np.array(dfNoise[dfNoise[\"Row Description\"].str.contains(\"Row\")])\n",
    "y = np.array(dfNoise[dfNoise[\"Row Description\"].str.contains(\"Column\")])"
   ]
  },
  {
   "cell_type": "code",
   "execution_count": 8,
   "metadata": {},
   "outputs": [],
   "source": [
    "## flip the bits specified in the noise file\n",
    "nrows = x.shape[0]\n",
    "ncols = x.shape[1]\n",
    "\n",
    "noisy_images = binarized_images\n",
    "\n",
    "for i in range(0,nrows):\n",
    "        for j in range(1,ncols):\n",
    "                bitx = x[i,j]\n",
    "                bity = y[i,j]\n",
    "                noisy_images[i, bitx, bity] = noisy_images[i, bitx, bity] * -1\n",
    "                "
   ]
  },
  {
   "cell_type": "code",
   "execution_count": 9,
   "metadata": {
    "scrolled": true
   },
   "outputs": [
    {
     "data": {
      "image/png": "[encoded data removed]",
      "text/plain": [
       "<Figure size 432x288 with 1 Axes>"
      ]
     },
     "metadata": {},
     "output_type": "display_data"
    }
   ],
   "source": [
    "plt.imshow(noisy_images[0], cmap='gray')\n",
    "plt.show()"
   ]
  },
  {
   "cell_type": "markdown",
   "metadata": {},
   "source": [
    "### Part 3: Building a Boltzman Machine for denoising the images and using Mean-Field Inference"
   ]
  },
  {
   "cell_type": "code",
   "execution_count": 22,
   "metadata": {},
   "outputs": [
    {
     "data": {
      "text/html": [
       "<div>\n",
       "<style scoped>\n",
       "    .dataframe tbody tr th:only-of-type {\n",
       "        vertical-align: middle;\n",
       "    }\n",
       "\n",
       "    .dataframe tbody tr th {\n",
       "        vertical-align: top;\n",
       "    }\n",
       "\n",
       "    .dataframe thead th {\n",
       "        text-align: right;\n",
       "    }\n",
       "</style>\n",
       "<table border=\"1\" class=\"dataframe\">\n",
       "  <thead>\n",
       "    <tr style=\"text-align: right;\">\n",
       "      <th></th>\n",
       "      <th>0</th>\n",
       "      <th>1</th>\n",
       "      <th>2</th>\n",
       "      <th>3</th>\n",
       "      <th>4</th>\n",
       "      <th>5</th>\n",
       "      <th>6</th>\n",
       "      <th>7</th>\n",
       "      <th>8</th>\n",
       "      <th>9</th>\n",
       "      <th>...</th>\n",
       "      <th>18</th>\n",
       "      <th>19</th>\n",
       "      <th>20</th>\n",
       "      <th>21</th>\n",
       "      <th>22</th>\n",
       "      <th>23</th>\n",
       "      <th>24</th>\n",
       "      <th>25</th>\n",
       "      <th>26</th>\n",
       "      <th>27</th>\n",
       "    </tr>\n",
       "  </thead>\n",
       "  <tbody>\n",
       "    <tr>\n",
       "      <th>0</th>\n",
       "      <td>0.163002</td>\n",
       "      <td>0.943169</td>\n",
       "      <td>0.966341</td>\n",
       "      <td>0.106514</td>\n",
       "      <td>0.265544</td>\n",
       "      <td>0.347078</td>\n",
       "      <td>0.677093</td>\n",
       "      <td>0.029129</td>\n",
       "      <td>0.151272</td>\n",
       "      <td>0.599906</td>\n",
       "      <td>...</td>\n",
       "      <td>0.284758</td>\n",
       "      <td>0.312810</td>\n",
       "      <td>0.934028</td>\n",
       "      <td>0.151777</td>\n",
       "      <td>0.882616</td>\n",
       "      <td>0.713864</td>\n",
       "      <td>0.175875</td>\n",
       "      <td>0.011102</td>\n",
       "      <td>0.414077</td>\n",
       "      <td>0.616365</td>\n",
       "    </tr>\n",
       "    <tr>\n",
       "      <th>1</th>\n",
       "      <td>0.407106</td>\n",
       "      <td>0.825789</td>\n",
       "      <td>0.822867</td>\n",
       "      <td>0.009245</td>\n",
       "      <td>0.888955</td>\n",
       "      <td>0.295000</td>\n",
       "      <td>0.975410</td>\n",
       "      <td>0.142443</td>\n",
       "      <td>0.796760</td>\n",
       "      <td>0.607107</td>\n",
       "      <td>...</td>\n",
       "      <td>0.371722</td>\n",
       "      <td>0.482941</td>\n",
       "      <td>0.316986</td>\n",
       "      <td>0.843358</td>\n",
       "      <td>0.702200</td>\n",
       "      <td>0.579487</td>\n",
       "      <td>0.067614</td>\n",
       "      <td>0.212943</td>\n",
       "      <td>0.564381</td>\n",
       "      <td>0.547075</td>\n",
       "    </tr>\n",
       "    <tr>\n",
       "      <th>2</th>\n",
       "      <td>0.395082</td>\n",
       "      <td>0.462340</td>\n",
       "      <td>0.063882</td>\n",
       "      <td>0.079890</td>\n",
       "      <td>0.613154</td>\n",
       "      <td>0.446056</td>\n",
       "      <td>0.872171</td>\n",
       "      <td>0.749021</td>\n",
       "      <td>0.149508</td>\n",
       "      <td>0.104041</td>\n",
       "      <td>...</td>\n",
       "      <td>0.646302</td>\n",
       "      <td>0.422235</td>\n",
       "      <td>0.647065</td>\n",
       "      <td>0.421013</td>\n",
       "      <td>0.054016</td>\n",
       "      <td>0.152300</td>\n",
       "      <td>0.140960</td>\n",
       "      <td>0.315576</td>\n",
       "      <td>0.758664</td>\n",
       "      <td>0.739550</td>\n",
       "    </tr>\n",
       "    <tr>\n",
       "      <th>3</th>\n",
       "      <td>0.873560</td>\n",
       "      <td>0.368054</td>\n",
       "      <td>0.602058</td>\n",
       "      <td>0.304465</td>\n",
       "      <td>0.403247</td>\n",
       "      <td>0.856347</td>\n",
       "      <td>0.504113</td>\n",
       "      <td>0.747819</td>\n",
       "      <td>0.307421</td>\n",
       "      <td>0.891668</td>\n",
       "      <td>...</td>\n",
       "      <td>0.640066</td>\n",
       "      <td>0.807471</td>\n",
       "      <td>0.511449</td>\n",
       "      <td>0.619081</td>\n",
       "      <td>0.397573</td>\n",
       "      <td>0.377645</td>\n",
       "      <td>0.399303</td>\n",
       "      <td>0.667911</td>\n",
       "      <td>0.314972</td>\n",
       "      <td>0.885732</td>\n",
       "    </tr>\n",
       "    <tr>\n",
       "      <th>4</th>\n",
       "      <td>0.553960</td>\n",
       "      <td>0.579533</td>\n",
       "      <td>0.403402</td>\n",
       "      <td>0.908633</td>\n",
       "      <td>0.738997</td>\n",
       "      <td>0.676647</td>\n",
       "      <td>0.265314</td>\n",
       "      <td>0.290233</td>\n",
       "      <td>0.348706</td>\n",
       "      <td>0.677840</td>\n",
       "      <td>...</td>\n",
       "      <td>0.426305</td>\n",
       "      <td>0.796197</td>\n",
       "      <td>0.353715</td>\n",
       "      <td>0.556425</td>\n",
       "      <td>0.537348</td>\n",
       "      <td>0.475875</td>\n",
       "      <td>0.307498</td>\n",
       "      <td>0.910969</td>\n",
       "      <td>0.682640</td>\n",
       "      <td>0.368514</td>\n",
       "    </tr>\n",
       "  </tbody>\n",
       "</table>\n",
       "<p>5 rows × 28 columns</p>\n",
       "</div>"
      ],
      "text/plain": [
       "         0         1         2         3         4         5         6   \\\n",
       "0  0.163002  0.943169  0.966341  0.106514  0.265544  0.347078  0.677093   \n",
       "1  0.407106  0.825789  0.822867  0.009245  0.888955  0.295000  0.975410   \n",
       "2  0.395082  0.462340  0.063882  0.079890  0.613154  0.446056  0.872171   \n",
       "3  0.873560  0.368054  0.602058  0.304465  0.403247  0.856347  0.504113   \n",
       "4  0.553960  0.579533  0.403402  0.908633  0.738997  0.676647  0.265314   \n",
       "\n",
       "         7         8         9     ...           18        19        20  \\\n",
       "0  0.029129  0.151272  0.599906    ...     0.284758  0.312810  0.934028   \n",
       "1  0.142443  0.796760  0.607107    ...     0.371722  0.482941  0.316986   \n",
       "2  0.749021  0.149508  0.104041    ...     0.646302  0.422235  0.647065   \n",
       "3  0.747819  0.307421  0.891668    ...     0.640066  0.807471  0.511449   \n",
       "4  0.290233  0.348706  0.677840    ...     0.426305  0.796197  0.353715   \n",
       "\n",
       "         21        22        23        24        25        26        27  \n",
       "0  0.151777  0.882616  0.713864  0.175875  0.011102  0.414077  0.616365  \n",
       "1  0.843358  0.702200  0.579487  0.067614  0.212943  0.564381  0.547075  \n",
       "2  0.421013  0.054016  0.152300  0.140960  0.315576  0.758664  0.739550  \n",
       "3  0.619081  0.397573  0.377645  0.399303  0.667911  0.314972  0.885732  \n",
       "4  0.556425  0.537348  0.475875  0.307498  0.910969  0.682640  0.368514  \n",
       "\n",
       "[5 rows x 28 columns]"
      ]
     },
     "execution_count": 22,
     "metadata": {},
     "output_type": "execute_result"
    }
   ],
   "source": [
    "import numpy as np\n",
    "dfInit = pd.read_csv('/Users/eric/MCSDS/AML/mp8/SupplementaryAndSampleData/InitialParametersModel.csv', header=None)\n",
    "\n",
    "## repeat this array for each image\n",
    "## essentially creating a 3D array where each element is this 2D array\n",
    "npQ = np.dstack([np.array(dfInit)] * len(binarized_images))\n",
    "#npQ[:,:,0]\n",
    "dfInit.head()"
   ]
  },
  {
   "cell_type": "code",
   "execution_count": 11,
   "metadata": {},
   "outputs": [
    {
     "data": {
      "text/html": [
       "<div>\n",
       "<style scoped>\n",
       "    .dataframe tbody tr th:only-of-type {\n",
       "        vertical-align: middle;\n",
       "    }\n",
       "\n",
       "    .dataframe tbody tr th {\n",
       "        vertical-align: top;\n",
       "    }\n",
       "\n",
       "    .dataframe thead th {\n",
       "        text-align: right;\n",
       "    }\n",
       "</style>\n",
       "<table border=\"1\" class=\"dataframe\">\n",
       "  <thead>\n",
       "    <tr style=\"text-align: right;\">\n",
       "      <th></th>\n",
       "      <th>Row Description</th>\n",
       "      <th>Pixel 0</th>\n",
       "      <th>Pixel 1</th>\n",
       "      <th>Pixel 2</th>\n",
       "      <th>Pixel 3</th>\n",
       "      <th>Pixel 4</th>\n",
       "      <th>Pixel 5</th>\n",
       "      <th>Pixel 6</th>\n",
       "      <th>Pixel 7</th>\n",
       "      <th>Pixel 8</th>\n",
       "      <th>...</th>\n",
       "      <th>Pixel 774</th>\n",
       "      <th>Pixel 775</th>\n",
       "      <th>Pixel 776</th>\n",
       "      <th>Pixel 777</th>\n",
       "      <th>Pixel 778</th>\n",
       "      <th>Pixel 779</th>\n",
       "      <th>Pixel 780</th>\n",
       "      <th>Pixel 781</th>\n",
       "      <th>Pixel 782</th>\n",
       "      <th>Pixel 783</th>\n",
       "    </tr>\n",
       "  </thead>\n",
       "  <tbody>\n",
       "    <tr>\n",
       "      <th>0</th>\n",
       "      <td>Image 0 Row</td>\n",
       "      <td>26</td>\n",
       "      <td>15</td>\n",
       "      <td>13</td>\n",
       "      <td>1</td>\n",
       "      <td>22</td>\n",
       "      <td>27</td>\n",
       "      <td>9</td>\n",
       "      <td>2</td>\n",
       "      <td>12</td>\n",
       "      <td>...</td>\n",
       "      <td>19</td>\n",
       "      <td>27</td>\n",
       "      <td>13</td>\n",
       "      <td>4</td>\n",
       "      <td>6</td>\n",
       "      <td>12</td>\n",
       "      <td>15</td>\n",
       "      <td>0</td>\n",
       "      <td>7</td>\n",
       "      <td>10</td>\n",
       "    </tr>\n",
       "    <tr>\n",
       "      <th>1</th>\n",
       "      <td>Image 0 Column</td>\n",
       "      <td>4</td>\n",
       "      <td>15</td>\n",
       "      <td>5</td>\n",
       "      <td>4</td>\n",
       "      <td>17</td>\n",
       "      <td>17</td>\n",
       "      <td>27</td>\n",
       "      <td>6</td>\n",
       "      <td>24</td>\n",
       "      <td>...</td>\n",
       "      <td>8</td>\n",
       "      <td>22</td>\n",
       "      <td>14</td>\n",
       "      <td>8</td>\n",
       "      <td>4</td>\n",
       "      <td>11</td>\n",
       "      <td>19</td>\n",
       "      <td>15</td>\n",
       "      <td>15</td>\n",
       "      <td>22</td>\n",
       "    </tr>\n",
       "    <tr>\n",
       "      <th>2</th>\n",
       "      <td>Image 1 Row</td>\n",
       "      <td>0</td>\n",
       "      <td>27</td>\n",
       "      <td>3</td>\n",
       "      <td>25</td>\n",
       "      <td>20</td>\n",
       "      <td>22</td>\n",
       "      <td>5</td>\n",
       "      <td>21</td>\n",
       "      <td>23</td>\n",
       "      <td>...</td>\n",
       "      <td>11</td>\n",
       "      <td>18</td>\n",
       "      <td>11</td>\n",
       "      <td>12</td>\n",
       "      <td>14</td>\n",
       "      <td>5</td>\n",
       "      <td>14</td>\n",
       "      <td>11</td>\n",
       "      <td>27</td>\n",
       "      <td>3</td>\n",
       "    </tr>\n",
       "    <tr>\n",
       "      <th>3</th>\n",
       "      <td>Image 1 Column</td>\n",
       "      <td>18</td>\n",
       "      <td>13</td>\n",
       "      <td>25</td>\n",
       "      <td>26</td>\n",
       "      <td>22</td>\n",
       "      <td>4</td>\n",
       "      <td>0</td>\n",
       "      <td>14</td>\n",
       "      <td>10</td>\n",
       "      <td>...</td>\n",
       "      <td>3</td>\n",
       "      <td>5</td>\n",
       "      <td>18</td>\n",
       "      <td>5</td>\n",
       "      <td>13</td>\n",
       "      <td>14</td>\n",
       "      <td>24</td>\n",
       "      <td>27</td>\n",
       "      <td>1</td>\n",
       "      <td>19</td>\n",
       "    </tr>\n",
       "    <tr>\n",
       "      <th>4</th>\n",
       "      <td>Image 2 Row</td>\n",
       "      <td>10</td>\n",
       "      <td>7</td>\n",
       "      <td>8</td>\n",
       "      <td>22</td>\n",
       "      <td>23</td>\n",
       "      <td>1</td>\n",
       "      <td>3</td>\n",
       "      <td>0</td>\n",
       "      <td>9</td>\n",
       "      <td>...</td>\n",
       "      <td>27</td>\n",
       "      <td>2</td>\n",
       "      <td>19</td>\n",
       "      <td>10</td>\n",
       "      <td>16</td>\n",
       "      <td>26</td>\n",
       "      <td>16</td>\n",
       "      <td>27</td>\n",
       "      <td>20</td>\n",
       "      <td>2</td>\n",
       "    </tr>\n",
       "  </tbody>\n",
       "</table>\n",
       "<p>5 rows × 785 columns</p>\n",
       "</div>"
      ],
      "text/plain": [
       "  Row Description  Pixel 0  Pixel 1  Pixel 2  Pixel 3  Pixel 4  Pixel 5  \\\n",
       "0     Image 0 Row       26       15       13        1       22       27   \n",
       "1  Image 0 Column        4       15        5        4       17       17   \n",
       "2     Image 1 Row        0       27        3       25       20       22   \n",
       "3  Image 1 Column       18       13       25       26       22        4   \n",
       "4     Image 2 Row       10        7        8       22       23        1   \n",
       "\n",
       "   Pixel 6  Pixel 7  Pixel 8    ...      Pixel 774  Pixel 775  Pixel 776  \\\n",
       "0        9        2       12    ...             19         27         13   \n",
       "1       27        6       24    ...              8         22         14   \n",
       "2        5       21       23    ...             11         18         11   \n",
       "3        0       14       10    ...              3          5         18   \n",
       "4        3        0        9    ...             27          2         19   \n",
       "\n",
       "   Pixel 777  Pixel 778  Pixel 779  Pixel 780  Pixel 781  Pixel 782  Pixel 783  \n",
       "0          4          6         12         15          0          7         10  \n",
       "1          8          4         11         19         15         15         22  \n",
       "2         12         14          5         14         11         27          3  \n",
       "3          5         13         14         24         27          1         19  \n",
       "4         10         16         26         16         27         20          2  \n",
       "\n",
       "[5 rows x 785 columns]"
      ]
     },
     "execution_count": 11,
     "metadata": {},
     "output_type": "execute_result"
    }
   ],
   "source": [
    "dfUpdate = pd.read_csv('/Users/eric/MCSDS/AML/mp8/SupplementaryAndSampleData/UpdateOrderCoordinates.csv')\n",
    "dfUpdate.head()"
   ]
  },
  {
   "cell_type": "code",
   "execution_count": 106,
   "metadata": {},
   "outputs": [
    {
     "name": "stdout",
     "output_type": "stream",
     "text": [
      "1\n",
      "2\n",
      "3\n",
      "4\n",
      "5\n",
      "6\n",
      "7\n",
      "8\n",
      "9\n",
      "10\n"
     ]
    }
   ],
   "source": [
    "import math\n",
    "\n",
    "theta_H = 0.8\n",
    "theta_X = 2\n",
    "npQ = np.dstack([np.array(dfInit)] * len(binarized_images))\n",
    "\n",
    "def getNeighbors(r,c,img):\n",
    "    ## left neighbor\n",
    "    x = r - 1\n",
    "    y = c \n",
    "    if (x > 0):\n",
    "        left = npQ[x,y,img]\n",
    "    else: \n",
    "        left = None\n",
    "    \n",
    "    #print(img, r, c, x, y, left)\n",
    "    \n",
    "    ## right neighbor\n",
    "    x = r + 1\n",
    "    y = c\n",
    "    if (x < 28):\n",
    "        right = npQ[x,y,img]\n",
    "    else: \n",
    "        right = None\n",
    "\n",
    "    ## upper neighbor\n",
    "    x = r \n",
    "    y = c - 1\n",
    "\n",
    "    if (y > 0):\n",
    "        up = npQ[x,y,img]\n",
    "    else: \n",
    "        up = None\n",
    "\n",
    "    ## lower neighbor\n",
    "    x = r\n",
    "    y = c + 1\n",
    "\n",
    "    if (y < 28):\n",
    "        down = npQ[x,y,img]\n",
    "    else: \n",
    "        down = None\n",
    "    \n",
    "    ## center\n",
    "    x = r\n",
    "    y = c\n",
    "    center = npQ[x,y,img]\n",
    "    \n",
    "    \n",
    "    list = [left, right, up, down, center]\n",
    "    \n",
    "    return [x for x in list if x is not None]\n",
    "\n",
    "\n",
    "vfe = np.zeros((20,11))\n",
    "c = 10e-10\n",
    "\n",
    "## calculate the VFE for initial Q and after each iteration\n",
    "logP = 0.0\n",
    "logQ = 0.0\n",
    "sumH = 0.0\n",
    "sumX = 0.0\n",
    "\n",
    "for i in range(0,40,2):\n",
    "    img = i/2\n",
    "    for x in range(28):\n",
    "        for y in range(28):\n",
    "            logQ += ( npQ[x,y,img] * np.log(npQ[x,y,img] + c) ) + ( (1 - npQ[x,y,img]) * (1 - np.log(npQ[x,y,img] + c) ) )\n",
    "\n",
    "            neighbors = getNeighbors(x,y,img)\n",
    "\n",
    "            #print(img, neighbors, reduce(lambda a, b: a*b, neighbors))\n",
    "\n",
    "            sumH += theta_H * reduce(lambda a, b: a*b, neighbors)           \n",
    "            sumX += theta_X * npQ[x,y,img] * noisy_images[img,x,y]\n",
    "\n",
    "## do this for 10 iterations\n",
    "epochs = range(10)\n",
    "\n",
    "for epoch in epochs:\n",
    "    print(epoch + 1)\n",
    "    \n",
    "    for i in range(0,40,2):\n",
    "        img = i/2              \n",
    "        \n",
    "        for j in range(1,784):\n",
    "\n",
    "            ## read the pixel value from the img with X,Y given by UpdateOrderCoordinates\n",
    "            x = dfUpdate.iloc[i,j]\n",
    "            y = dfUpdate.iloc[i + 1, j]\n",
    "\n",
    "            ## observed value of X_i\n",
    "            obsval = noisy_images[img,x,y]\n",
    "\n",
    "            ## neighbors of the pixel at X,Y\n",
    "            neighbors = getNeighbors(x,y,img)\n",
    "\n",
    "            #print(img, x, y, neighbors)\n",
    "\n",
    "            ## calculate pi_i\n",
    "            num1 = 0\n",
    "            den1 = 0\n",
    "            for neighbor in neighbors:            \n",
    "                num1 += (theta_H * (2 * neighbor) - 1) \n",
    "\n",
    "                #print(neighbor, num1, den1)\n",
    "\n",
    "            den1 = (-1 * (theta_X * ( (2 * obsval) -1 )))\n",
    "            num2 = theta_X * obsval\n",
    "\n",
    "            numerator = math.exp((num1 + num2))\n",
    "            denomenator = numerator + math.exp(-1 * (num1 + den1))\n",
    "\n",
    "            pi_i = numerator / denomenator\n",
    "\n",
    "            npQ[x,y,img] = pi_i\n",
    "            \n",
    "    \n",
    "    for i in range(0,40,2):\n",
    "        img = i / 2\n",
    "\n",
    "        ## calculate the VFE for initial Q and after each iteration\n",
    "        logP = 0.0\n",
    "        logQ = 0.0\n",
    "        sumH = 0.0\n",
    "        sumX = 0.0\n",
    "\n",
    "        for x in range(28):\n",
    "            for y in range(28):\n",
    "                logQ += ( npQ[x,y,img] * np.log(npQ[x,y,img] + c) ) + ( (1 - npQ[x,y,img]) * (1 - np.log(npQ[x,y,img] + c) ) )\n",
    "\n",
    "                neighbors = getNeighbors(x,y,img)\n",
    "\n",
    "                #print(img, neighbors, reduce(lambda a, b: a*b, neighbors))\n",
    "\n",
    "                sumH += theta_H * reduce(lambda a, b: a*b, neighbors)           \n",
    "                sumX += theta_X * npQ[x,y,img] * noisy_images[img,x,y]\n",
    "\n",
    "\n",
    "        logP += sumH + sumX\n",
    "        vfe[img,epoch+1] = logQ - logP\n",
    "        "
   ]
  },
  {
   "cell_type": "code",
   "execution_count": 107,
   "metadata": {},
   "outputs": [
    {
     "data": {
      "image/png": "[encoded data removed]",
      "text/plain": [
       "<Figure size 432x288 with 1 Axes>"
      ]
     },
     "metadata": {},
     "output_type": "display_data"
    }
   ],
   "source": [
    "#npQ[:,:,0]\n",
    "\n",
    "npQBin = npQ\n",
    "npQBin[npQBin < 0.5] = -1\n",
    "npQBin[npQBin >= 0.5] = 1\n",
    "\n",
    "#img = pd.DataFrame(npQ[:,:])\n",
    "#img[img < 0.5] = -1\n",
    "#img[img >= 0.5] = 1\n",
    "\n",
    "plt.imshow(npQBin[:,:,0], cmap='gray')\n",
    "plt.show()"
   ]
  },
  {
   "cell_type": "code",
   "execution_count": 62,
   "metadata": {},
   "outputs": [
    {
     "data": {
      "image/png": "[encoded data removed]",
      "text/plain": [
       "<Figure size 432x288 with 1 Axes>"
      ]
     },
     "metadata": {},
     "output_type": "display_data"
    }
   ],
   "source": [
    "plt.imshow(npQBin[:,:,1], cmap='gray')\n",
    "plt.show()"
   ]
  },
  {
   "cell_type": "markdown",
   "metadata": {},
   "source": [
    "### Part 4: Turning in the energy function values computed initially and after each iteration"
   ]
  },
  {
   "cell_type": "code",
   "execution_count": 64,
   "metadata": {},
   "outputs": [
    {
     "data": {
      "text/plain": [
       "319691.79457852425"
      ]
     },
     "execution_count": 64,
     "metadata": {},
     "output_type": "execute_result"
    }
   ],
   "source": [
    "vfe[0,1]"
   ]
  },
  {
   "cell_type": "markdown",
   "metadata": {},
   "source": [
    "### Part 5: Displaying the reconstructed images"
   ]
  },
  {
   "cell_type": "code",
   "execution_count": 63,
   "metadata": {},
   "outputs": [
    {
     "data": {
      "image/png": "[encoded data removed]",
      "text/plain": [
       "<Figure size 432x288 with 1 Axes>"
      ]
     },
     "metadata": {},
     "output_type": "display_data"
    },
    {
     "data": {
      "image/png": "[encoded data removed]",
      "text/plain": [
       "<Figure size 432x288 with 1 Axes>"
      ]
     },
     "metadata": {},
     "output_type": "display_data"
    },
    {
     "data": {
      "image/png": "[encoded data removed]",
      "text/plain": [
       "<Figure size 432x288 with 1 Axes>"
      ]
     },
     "metadata": {},
     "output_type": "display_data"
    },
    {
     "data": {
      "image/png": "[encoded data removed]",
      "text/plain": [
       "<Figure size 432x288 with 1 Axes>"
      ]
     },
     "metadata": {},
     "output_type": "display_data"
    },
    {
     "data": {
      "image/png": "[encoded data removed]",
      "text/plain": [
       "<Figure size 432x288 with 1 Axes>"
      ]
     },
     "metadata": {},
     "output_type": "display_data"
    },
    {
     "data": {
      "image/png": "[encoded data removed]",
      "text/plain": [
       "<Figure size 432x288 with 1 Axes>"
      ]
     },
     "metadata": {},
     "output_type": "display_data"
    },
    {
     "data": {
      "image/png": "[encoded data removed]",
      "text/plain": [
       "<Figure size 432x288 with 1 Axes>"
      ]
     },
     "metadata": {},
     "output_type": "display_data"
    },
    {
     "data": {
      "image/png": "[encoded data removed]",
      "text/plain": [
       "<Figure size 432x288 with 1 Axes>"
      ]
     },
     "metadata": {},
     "output_type": "display_data"
    },
    {
     "data": {
      "image/png": "[encoded data removed]",
      "text/plain": [
       "<Figure size 432x288 with 1 Axes>"
      ]
     },
     "metadata": {},
     "output_type": "display_data"
    },
    {
     "data": {
      "image/png": "[encoded data removed]",
      "text/plain": [
       "<Figure size 432x288 with 1 Axes>"
      ]
     },
     "metadata": {},
     "output_type": "display_data"
    }
   ],
   "source": [
    "for i in range(10,20):\n",
    "    plt.imshow(npQBin[:,:,i], cmap='gray')\n",
    "    plt.show()"
   ]
  },
  {
   "cell_type": "code",
   "execution_count": null,
   "metadata": {},
   "outputs": [],
   "source": []
  }
 ],
 "metadata": {
  "kernelspec": {
   "display_name": "Python 2",
   "language": "python",
   "name": "python2"
  },
  "language_info": {
   "codemirror_mode": {
    "name": "ipython",
    "version": 2
   },
   "file_extension": ".py",
   "mimetype": "text/x-python",
   "name": "python",
   "nbconvert_exporter": "python",
   "pygments_lexer": "ipython2",
   "version": "2.7.14"
  }
 },
 "nbformat": 4,
 "nbformat_minor": 2
}
