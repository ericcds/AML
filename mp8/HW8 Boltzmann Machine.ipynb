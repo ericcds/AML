{
 "cells": [
  {
   "cell_type": "code",
   "execution_count": 1,
   "metadata": {},
   "outputs": [],
   "source": [
    "import mnist\n",
    "import pandas as pd\n",
    "import numpy as np\n",
    "from skimage import transform\n",
    "from PIL import Image\n",
    "from matplotlib import pyplot as plt"
   ]
  },
  {
   "cell_type": "markdown",
   "metadata": {},
   "source": [
    "### Part 1: Obtaining the Dataset"
   ]
  },
  {
   "cell_type": "code",
   "execution_count": 2,
   "metadata": {},
   "outputs": [
    {
     "data": {
      "image/png": "[encoded data removed]",
      "text/plain": [
       "<Figure size 432x288 with 1 Axes>"
      ]
     },
     "metadata": {},
     "output_type": "display_data"
    }
   ],
   "source": [
    "images = mnist.train_images()\n",
    "labels = mnist.train_labels()\n",
    "\n",
    "plt.imshow(images[0], cmap='gray')\n",
    "plt.show()\n",
    "#scipy.misc.toimage(scipy.misc.imresize(images[0,:,:] * -1 + 256, 10.))"
   ]
  },
  {
   "cell_type": "code",
   "execution_count": 3,
   "metadata": {},
   "outputs": [
    {
     "data": {
      "image/png": "[encoded data removed]",
      "text/plain": [
       "<Figure size 432x288 with 1 Axes>"
      ]
     },
     "metadata": {},
     "output_type": "display_data"
    }
   ],
   "source": [
    "binarized_images = images[0:20]\n",
    "binarized_images[binarized_images < 128] = -1\n",
    "binarized_images[binarized_images >= 128] = 1\n",
    "\n",
    "plt.imshow(binarized_images[0], cmap='gray')\n",
    "plt.show()"
   ]
  },
  {
   "cell_type": "markdown",
   "metadata": {},
   "source": [
    "### Part 2: Adding Noise"
   ]
  },
  {
   "cell_type": "code",
   "execution_count": 4,
   "metadata": {},
   "outputs": [
    {
     "data": {
      "text/html": [
       "<div>\n",
       "<style scoped>\n",
       "    .dataframe tbody tr th:only-of-type {\n",
       "        vertical-align: middle;\n",
       "    }\n",
       "\n",
       "    .dataframe tbody tr th {\n",
       "        vertical-align: top;\n",
       "    }\n",
       "\n",
       "    .dataframe thead th {\n",
       "        text-align: right;\n",
       "    }\n",
       "</style>\n",
       "<table border=\"1\" class=\"dataframe\">\n",
       "  <thead>\n",
       "    <tr style=\"text-align: right;\">\n",
       "      <th></th>\n",
       "      <th>Row Description</th>\n",
       "      <th>Noisy bit 0</th>\n",
       "      <th>Noisy bit 1</th>\n",
       "      <th>Noisy bit 2</th>\n",
       "      <th>Noisy bit 3</th>\n",
       "      <th>Noisy bit 4</th>\n",
       "      <th>Noisy bit 5</th>\n",
       "      <th>Noisy bit 6</th>\n",
       "      <th>Noisy bit 7</th>\n",
       "      <th>Noisy bit 8</th>\n",
       "      <th>Noisy bit 9</th>\n",
       "      <th>Noisy bit 10</th>\n",
       "      <th>Noisy bit 11</th>\n",
       "      <th>Noisy bit 12</th>\n",
       "      <th>Noisy bit 13</th>\n",
       "      <th>Noisy bit 14</th>\n",
       "    </tr>\n",
       "  </thead>\n",
       "  <tbody>\n",
       "    <tr>\n",
       "      <th>0</th>\n",
       "      <td>Image 0 Row</td>\n",
       "      <td>21</td>\n",
       "      <td>3</td>\n",
       "      <td>10</td>\n",
       "      <td>27</td>\n",
       "      <td>19</td>\n",
       "      <td>24</td>\n",
       "      <td>7</td>\n",
       "      <td>0</td>\n",
       "      <td>25</td>\n",
       "      <td>6</td>\n",
       "      <td>7</td>\n",
       "      <td>15</td>\n",
       "      <td>14</td>\n",
       "      <td>17</td>\n",
       "      <td>23</td>\n",
       "    </tr>\n",
       "    <tr>\n",
       "      <th>1</th>\n",
       "      <td>Image 0 Column</td>\n",
       "      <td>17</td>\n",
       "      <td>17</td>\n",
       "      <td>22</td>\n",
       "      <td>9</td>\n",
       "      <td>20</td>\n",
       "      <td>5</td>\n",
       "      <td>2</td>\n",
       "      <td>3</td>\n",
       "      <td>12</td>\n",
       "      <td>26</td>\n",
       "      <td>5</td>\n",
       "      <td>24</td>\n",
       "      <td>6</td>\n",
       "      <td>23</td>\n",
       "      <td>3</td>\n",
       "    </tr>\n",
       "    <tr>\n",
       "      <th>2</th>\n",
       "      <td>Image 1 Row</td>\n",
       "      <td>26</td>\n",
       "      <td>9</td>\n",
       "      <td>4</td>\n",
       "      <td>0</td>\n",
       "      <td>20</td>\n",
       "      <td>5</td>\n",
       "      <td>23</td>\n",
       "      <td>3</td>\n",
       "      <td>14</td>\n",
       "      <td>21</td>\n",
       "      <td>15</td>\n",
       "      <td>2</td>\n",
       "      <td>15</td>\n",
       "      <td>3</td>\n",
       "      <td>27</td>\n",
       "    </tr>\n",
       "    <tr>\n",
       "      <th>3</th>\n",
       "      <td>Image 1 Column</td>\n",
       "      <td>17</td>\n",
       "      <td>3</td>\n",
       "      <td>20</td>\n",
       "      <td>22</td>\n",
       "      <td>6</td>\n",
       "      <td>24</td>\n",
       "      <td>18</td>\n",
       "      <td>10</td>\n",
       "      <td>20</td>\n",
       "      <td>8</td>\n",
       "      <td>21</td>\n",
       "      <td>20</td>\n",
       "      <td>24</td>\n",
       "      <td>1</td>\n",
       "      <td>7</td>\n",
       "    </tr>\n",
       "    <tr>\n",
       "      <th>4</th>\n",
       "      <td>Image 2 Row</td>\n",
       "      <td>13</td>\n",
       "      <td>24</td>\n",
       "      <td>24</td>\n",
       "      <td>11</td>\n",
       "      <td>0</td>\n",
       "      <td>11</td>\n",
       "      <td>26</td>\n",
       "      <td>18</td>\n",
       "      <td>12</td>\n",
       "      <td>12</td>\n",
       "      <td>17</td>\n",
       "      <td>8</td>\n",
       "      <td>20</td>\n",
       "      <td>0</td>\n",
       "      <td>6</td>\n",
       "    </tr>\n",
       "  </tbody>\n",
       "</table>\n",
       "</div>"
      ],
      "text/plain": [
       "  Row Description  Noisy bit 0  Noisy bit 1  Noisy bit 2  Noisy bit 3  \\\n",
       "0     Image 0 Row           21            3           10           27   \n",
       "1  Image 0 Column           17           17           22            9   \n",
       "2     Image 1 Row           26            9            4            0   \n",
       "3  Image 1 Column           17            3           20           22   \n",
       "4     Image 2 Row           13           24           24           11   \n",
       "\n",
       "   Noisy bit 4  Noisy bit 5  Noisy bit 6  Noisy bit 7  Noisy bit 8  \\\n",
       "0           19           24            7            0           25   \n",
       "1           20            5            2            3           12   \n",
       "2           20            5           23            3           14   \n",
       "3            6           24           18           10           20   \n",
       "4            0           11           26           18           12   \n",
       "\n",
       "   Noisy bit 9  Noisy bit 10  Noisy bit 11  Noisy bit 12  Noisy bit 13  \\\n",
       "0            6             7            15            14            17   \n",
       "1           26             5            24             6            23   \n",
       "2           21            15             2            15             3   \n",
       "3            8            21            20            24             1   \n",
       "4           12            17             8            20             0   \n",
       "\n",
       "   Noisy bit 14  \n",
       "0            23  \n",
       "1             3  \n",
       "2            27  \n",
       "3             7  \n",
       "4             6  "
      ]
     },
     "execution_count": 4,
     "metadata": {},
     "output_type": "execute_result"
    }
   ],
   "source": [
    "import pandas as pd\n",
    "dfNoise = pd.read_csv('/Users/eric/MCSDS/AML/mp8/SupplementaryAndSampleData/NoiseCoordinates.csv')\n",
    "dfNoise.head()"
   ]
  },
  {
   "cell_type": "code",
   "execution_count": 22,
   "metadata": {},
   "outputs": [],
   "source": [
    "x = np.array(dfNoise[dfNoise[\"Row Description\"].str.contains(\"Row\")])\n",
    "y = np.array(dfNoise[dfNoise[\"Row Description\"].str.contains(\"Column\")])"
   ]
  },
  {
   "cell_type": "code",
   "execution_count": 27,
   "metadata": {},
   "outputs": [],
   "source": [
    "## flip the bits specified in the noise file\n",
    "nrows = x.shape[0]\n",
    "ncols = x.shape[1]\n",
    "\n",
    "noisy_images = binarized_images\n",
    "\n",
    "for i in range(0,nrows):\n",
    "        for j in range(1,ncols):\n",
    "                bitx = x[i,j]\n",
    "                bity = y[i,j]\n",
    "                #print(i, j, bitx, bity)\n",
    "                noisy_images[i, bitx, bity] = noisy_images[i, bitx, bity] * -1\n",
    "                "
   ]
  },
  {
   "cell_type": "code",
   "execution_count": 28,
   "metadata": {
    "scrolled": true
   },
   "outputs": [
    {
     "data": {
      "image/png": "[encoded data removed]",
      "text/plain": [
       "<Figure size 432x288 with 1 Axes>"
      ]
     },
     "metadata": {},
     "output_type": "display_data"
    }
   ],
   "source": [
    "plt.imshow(noisy_images[0], cmap='gray')\n",
    "plt.show()"
   ]
  },
  {
   "cell_type": "markdown",
   "metadata": {},
   "source": [
    "### Part 3: Building a Boltzman Machine for denoising the images and using Mean-Field Inference"
   ]
  },
  {
   "cell_type": "code",
   "execution_count": 8,
   "metadata": {},
   "outputs": [
    {
     "data": {
      "text/html": [
       "<div>\n",
       "<style scoped>\n",
       "    .dataframe tbody tr th:only-of-type {\n",
       "        vertical-align: middle;\n",
       "    }\n",
       "\n",
       "    .dataframe tbody tr th {\n",
       "        vertical-align: top;\n",
       "    }\n",
       "\n",
       "    .dataframe thead th {\n",
       "        text-align: right;\n",
       "    }\n",
       "</style>\n",
       "<table border=\"1\" class=\"dataframe\">\n",
       "  <thead>\n",
       "    <tr style=\"text-align: right;\">\n",
       "      <th></th>\n",
       "      <th>0</th>\n",
       "      <th>1</th>\n",
       "      <th>2</th>\n",
       "      <th>3</th>\n",
       "      <th>4</th>\n",
       "      <th>5</th>\n",
       "      <th>6</th>\n",
       "      <th>7</th>\n",
       "      <th>8</th>\n",
       "      <th>9</th>\n",
       "      <th>...</th>\n",
       "      <th>18</th>\n",
       "      <th>19</th>\n",
       "      <th>20</th>\n",
       "      <th>21</th>\n",
       "      <th>22</th>\n",
       "      <th>23</th>\n",
       "      <th>24</th>\n",
       "      <th>25</th>\n",
       "      <th>26</th>\n",
       "      <th>27</th>\n",
       "    </tr>\n",
       "  </thead>\n",
       "  <tbody>\n",
       "    <tr>\n",
       "      <th>0</th>\n",
       "      <td>0.163002</td>\n",
       "      <td>0.943169</td>\n",
       "      <td>0.966341</td>\n",
       "      <td>0.106514</td>\n",
       "      <td>0.265544</td>\n",
       "      <td>0.347078</td>\n",
       "      <td>0.677093</td>\n",
       "      <td>0.029129</td>\n",
       "      <td>0.151272</td>\n",
       "      <td>0.599906</td>\n",
       "      <td>...</td>\n",
       "      <td>0.284758</td>\n",
       "      <td>0.312810</td>\n",
       "      <td>0.934028</td>\n",
       "      <td>0.151777</td>\n",
       "      <td>0.882616</td>\n",
       "      <td>0.713864</td>\n",
       "      <td>0.175875</td>\n",
       "      <td>0.011102</td>\n",
       "      <td>0.414077</td>\n",
       "      <td>0.616365</td>\n",
       "    </tr>\n",
       "    <tr>\n",
       "      <th>1</th>\n",
       "      <td>0.407106</td>\n",
       "      <td>0.825789</td>\n",
       "      <td>0.822867</td>\n",
       "      <td>0.009245</td>\n",
       "      <td>0.888955</td>\n",
       "      <td>0.295000</td>\n",
       "      <td>0.975410</td>\n",
       "      <td>0.142443</td>\n",
       "      <td>0.796760</td>\n",
       "      <td>0.607107</td>\n",
       "      <td>...</td>\n",
       "      <td>0.371722</td>\n",
       "      <td>0.482941</td>\n",
       "      <td>0.316986</td>\n",
       "      <td>0.843358</td>\n",
       "      <td>0.702200</td>\n",
       "      <td>0.579487</td>\n",
       "      <td>0.067614</td>\n",
       "      <td>0.212943</td>\n",
       "      <td>0.564381</td>\n",
       "      <td>0.547075</td>\n",
       "    </tr>\n",
       "    <tr>\n",
       "      <th>2</th>\n",
       "      <td>0.395082</td>\n",
       "      <td>0.462340</td>\n",
       "      <td>0.063882</td>\n",
       "      <td>0.079890</td>\n",
       "      <td>0.613154</td>\n",
       "      <td>0.446056</td>\n",
       "      <td>0.872171</td>\n",
       "      <td>0.749021</td>\n",
       "      <td>0.149508</td>\n",
       "      <td>0.104041</td>\n",
       "      <td>...</td>\n",
       "      <td>0.646302</td>\n",
       "      <td>0.422235</td>\n",
       "      <td>0.647065</td>\n",
       "      <td>0.421013</td>\n",
       "      <td>0.054016</td>\n",
       "      <td>0.152300</td>\n",
       "      <td>0.140960</td>\n",
       "      <td>0.315576</td>\n",
       "      <td>0.758664</td>\n",
       "      <td>0.739550</td>\n",
       "    </tr>\n",
       "    <tr>\n",
       "      <th>3</th>\n",
       "      <td>0.873560</td>\n",
       "      <td>0.368054</td>\n",
       "      <td>0.602058</td>\n",
       "      <td>0.304465</td>\n",
       "      <td>0.403247</td>\n",
       "      <td>0.856347</td>\n",
       "      <td>0.504113</td>\n",
       "      <td>0.747819</td>\n",
       "      <td>0.307421</td>\n",
       "      <td>0.891668</td>\n",
       "      <td>...</td>\n",
       "      <td>0.640066</td>\n",
       "      <td>0.807471</td>\n",
       "      <td>0.511449</td>\n",
       "      <td>0.619081</td>\n",
       "      <td>0.397573</td>\n",
       "      <td>0.377645</td>\n",
       "      <td>0.399303</td>\n",
       "      <td>0.667911</td>\n",
       "      <td>0.314972</td>\n",
       "      <td>0.885732</td>\n",
       "    </tr>\n",
       "    <tr>\n",
       "      <th>4</th>\n",
       "      <td>0.553960</td>\n",
       "      <td>0.579533</td>\n",
       "      <td>0.403402</td>\n",
       "      <td>0.908633</td>\n",
       "      <td>0.738997</td>\n",
       "      <td>0.676647</td>\n",
       "      <td>0.265314</td>\n",
       "      <td>0.290233</td>\n",
       "      <td>0.348706</td>\n",
       "      <td>0.677840</td>\n",
       "      <td>...</td>\n",
       "      <td>0.426305</td>\n",
       "      <td>0.796197</td>\n",
       "      <td>0.353715</td>\n",
       "      <td>0.556425</td>\n",
       "      <td>0.537348</td>\n",
       "      <td>0.475875</td>\n",
       "      <td>0.307498</td>\n",
       "      <td>0.910969</td>\n",
       "      <td>0.682640</td>\n",
       "      <td>0.368514</td>\n",
       "    </tr>\n",
       "  </tbody>\n",
       "</table>\n",
       "<p>5 rows × 28 columns</p>\n",
       "</div>"
      ],
      "text/plain": [
       "         0         1         2         3         4         5         6   \\\n",
       "0  0.163002  0.943169  0.966341  0.106514  0.265544  0.347078  0.677093   \n",
       "1  0.407106  0.825789  0.822867  0.009245  0.888955  0.295000  0.975410   \n",
       "2  0.395082  0.462340  0.063882  0.079890  0.613154  0.446056  0.872171   \n",
       "3  0.873560  0.368054  0.602058  0.304465  0.403247  0.856347  0.504113   \n",
       "4  0.553960  0.579533  0.403402  0.908633  0.738997  0.676647  0.265314   \n",
       "\n",
       "         7         8         9     ...           18        19        20  \\\n",
       "0  0.029129  0.151272  0.599906    ...     0.284758  0.312810  0.934028   \n",
       "1  0.142443  0.796760  0.607107    ...     0.371722  0.482941  0.316986   \n",
       "2  0.749021  0.149508  0.104041    ...     0.646302  0.422235  0.647065   \n",
       "3  0.747819  0.307421  0.891668    ...     0.640066  0.807471  0.511449   \n",
       "4  0.290233  0.348706  0.677840    ...     0.426305  0.796197  0.353715   \n",
       "\n",
       "         21        22        23        24        25        26        27  \n",
       "0  0.151777  0.882616  0.713864  0.175875  0.011102  0.414077  0.616365  \n",
       "1  0.843358  0.702200  0.579487  0.067614  0.212943  0.564381  0.547075  \n",
       "2  0.421013  0.054016  0.152300  0.140960  0.315576  0.758664  0.739550  \n",
       "3  0.619081  0.397573  0.377645  0.399303  0.667911  0.314972  0.885732  \n",
       "4  0.556425  0.537348  0.475875  0.307498  0.910969  0.682640  0.368514  \n",
       "\n",
       "[5 rows x 28 columns]"
      ]
     },
     "execution_count": 8,
     "metadata": {},
     "output_type": "execute_result"
    }
   ],
   "source": [
    "import numpy as np\n",
    "dfInit = pd.read_csv('/Users/eric/MCSDS/AML/mp8/SupplementaryAndSampleData/InitialParametersModel.csv', header=None)\n",
    "\n",
    "## repeat this array for each image\n",
    "## essentially creating a 3D array where each element is this 2D array\n",
    "npQ = np.dstack([np.array(dfInit)] * len(binarized_images))\n",
    "#npQ[:,:,0]\n",
    "dfInit.head()"
   ]
  },
  {
   "cell_type": "code",
   "execution_count": 9,
   "metadata": {},
   "outputs": [
    {
     "data": {
      "text/html": [
       "<div>\n",
       "<style scoped>\n",
       "    .dataframe tbody tr th:only-of-type {\n",
       "        vertical-align: middle;\n",
       "    }\n",
       "\n",
       "    .dataframe tbody tr th {\n",
       "        vertical-align: top;\n",
       "    }\n",
       "\n",
       "    .dataframe thead th {\n",
       "        text-align: right;\n",
       "    }\n",
       "</style>\n",
       "<table border=\"1\" class=\"dataframe\">\n",
       "  <thead>\n",
       "    <tr style=\"text-align: right;\">\n",
       "      <th></th>\n",
       "      <th>Row Description</th>\n",
       "      <th>Pixel 0</th>\n",
       "      <th>Pixel 1</th>\n",
       "      <th>Pixel 2</th>\n",
       "      <th>Pixel 3</th>\n",
       "      <th>Pixel 4</th>\n",
       "      <th>Pixel 5</th>\n",
       "      <th>Pixel 6</th>\n",
       "      <th>Pixel 7</th>\n",
       "      <th>Pixel 8</th>\n",
       "      <th>...</th>\n",
       "      <th>Pixel 774</th>\n",
       "      <th>Pixel 775</th>\n",
       "      <th>Pixel 776</th>\n",
       "      <th>Pixel 777</th>\n",
       "      <th>Pixel 778</th>\n",
       "      <th>Pixel 779</th>\n",
       "      <th>Pixel 780</th>\n",
       "      <th>Pixel 781</th>\n",
       "      <th>Pixel 782</th>\n",
       "      <th>Pixel 783</th>\n",
       "    </tr>\n",
       "  </thead>\n",
       "  <tbody>\n",
       "    <tr>\n",
       "      <th>0</th>\n",
       "      <td>Image 0 Row</td>\n",
       "      <td>26</td>\n",
       "      <td>15</td>\n",
       "      <td>13</td>\n",
       "      <td>1</td>\n",
       "      <td>22</td>\n",
       "      <td>27</td>\n",
       "      <td>9</td>\n",
       "      <td>2</td>\n",
       "      <td>12</td>\n",
       "      <td>...</td>\n",
       "      <td>19</td>\n",
       "      <td>27</td>\n",
       "      <td>13</td>\n",
       "      <td>4</td>\n",
       "      <td>6</td>\n",
       "      <td>12</td>\n",
       "      <td>15</td>\n",
       "      <td>0</td>\n",
       "      <td>7</td>\n",
       "      <td>10</td>\n",
       "    </tr>\n",
       "    <tr>\n",
       "      <th>1</th>\n",
       "      <td>Image 0 Column</td>\n",
       "      <td>4</td>\n",
       "      <td>15</td>\n",
       "      <td>5</td>\n",
       "      <td>4</td>\n",
       "      <td>17</td>\n",
       "      <td>17</td>\n",
       "      <td>27</td>\n",
       "      <td>6</td>\n",
       "      <td>24</td>\n",
       "      <td>...</td>\n",
       "      <td>8</td>\n",
       "      <td>22</td>\n",
       "      <td>14</td>\n",
       "      <td>8</td>\n",
       "      <td>4</td>\n",
       "      <td>11</td>\n",
       "      <td>19</td>\n",
       "      <td>15</td>\n",
       "      <td>15</td>\n",
       "      <td>22</td>\n",
       "    </tr>\n",
       "    <tr>\n",
       "      <th>2</th>\n",
       "      <td>Image 1 Row</td>\n",
       "      <td>0</td>\n",
       "      <td>27</td>\n",
       "      <td>3</td>\n",
       "      <td>25</td>\n",
       "      <td>20</td>\n",
       "      <td>22</td>\n",
       "      <td>5</td>\n",
       "      <td>21</td>\n",
       "      <td>23</td>\n",
       "      <td>...</td>\n",
       "      <td>11</td>\n",
       "      <td>18</td>\n",
       "      <td>11</td>\n",
       "      <td>12</td>\n",
       "      <td>14</td>\n",
       "      <td>5</td>\n",
       "      <td>14</td>\n",
       "      <td>11</td>\n",
       "      <td>27</td>\n",
       "      <td>3</td>\n",
       "    </tr>\n",
       "    <tr>\n",
       "      <th>3</th>\n",
       "      <td>Image 1 Column</td>\n",
       "      <td>18</td>\n",
       "      <td>13</td>\n",
       "      <td>25</td>\n",
       "      <td>26</td>\n",
       "      <td>22</td>\n",
       "      <td>4</td>\n",
       "      <td>0</td>\n",
       "      <td>14</td>\n",
       "      <td>10</td>\n",
       "      <td>...</td>\n",
       "      <td>3</td>\n",
       "      <td>5</td>\n",
       "      <td>18</td>\n",
       "      <td>5</td>\n",
       "      <td>13</td>\n",
       "      <td>14</td>\n",
       "      <td>24</td>\n",
       "      <td>27</td>\n",
       "      <td>1</td>\n",
       "      <td>19</td>\n",
       "    </tr>\n",
       "    <tr>\n",
       "      <th>4</th>\n",
       "      <td>Image 2 Row</td>\n",
       "      <td>10</td>\n",
       "      <td>7</td>\n",
       "      <td>8</td>\n",
       "      <td>22</td>\n",
       "      <td>23</td>\n",
       "      <td>1</td>\n",
       "      <td>3</td>\n",
       "      <td>0</td>\n",
       "      <td>9</td>\n",
       "      <td>...</td>\n",
       "      <td>27</td>\n",
       "      <td>2</td>\n",
       "      <td>19</td>\n",
       "      <td>10</td>\n",
       "      <td>16</td>\n",
       "      <td>26</td>\n",
       "      <td>16</td>\n",
       "      <td>27</td>\n",
       "      <td>20</td>\n",
       "      <td>2</td>\n",
       "    </tr>\n",
       "  </tbody>\n",
       "</table>\n",
       "<p>5 rows × 785 columns</p>\n",
       "</div>"
      ],
      "text/plain": [
       "  Row Description  Pixel 0  Pixel 1  Pixel 2  Pixel 3  Pixel 4  Pixel 5  \\\n",
       "0     Image 0 Row       26       15       13        1       22       27   \n",
       "1  Image 0 Column        4       15        5        4       17       17   \n",
       "2     Image 1 Row        0       27        3       25       20       22   \n",
       "3  Image 1 Column       18       13       25       26       22        4   \n",
       "4     Image 2 Row       10        7        8       22       23        1   \n",
       "\n",
       "   Pixel 6  Pixel 7  Pixel 8    ...      Pixel 774  Pixel 775  Pixel 776  \\\n",
       "0        9        2       12    ...             19         27         13   \n",
       "1       27        6       24    ...              8         22         14   \n",
       "2        5       21       23    ...             11         18         11   \n",
       "3        0       14       10    ...              3          5         18   \n",
       "4        3        0        9    ...             27          2         19   \n",
       "\n",
       "   Pixel 777  Pixel 778  Pixel 779  Pixel 780  Pixel 781  Pixel 782  Pixel 783  \n",
       "0          4          6         12         15          0          7         10  \n",
       "1          8          4         11         19         15         15         22  \n",
       "2         12         14          5         14         11         27          3  \n",
       "3          5         13         14         24         27          1         19  \n",
       "4         10         16         26         16         27         20          2  \n",
       "\n",
       "[5 rows x 785 columns]"
      ]
     },
     "execution_count": 9,
     "metadata": {},
     "output_type": "execute_result"
    }
   ],
   "source": [
    "dfUpdate = pd.read_csv('/Users/eric/MCSDS/AML/mp8/SupplementaryAndSampleData/UpdateOrderCoordinates.csv')\n",
    "dfUpdate.head()"
   ]
  },
  {
   "cell_type": "code",
   "execution_count": 96,
   "metadata": {},
   "outputs": [
    {
     "name": "stdout",
     "output_type": "stream",
     "text": [
      "1\n",
      "(0, 0, -401.99786050596038, 12.199028424454465, 11.15103833018674, 23.350066754641205, -425.34792726060158)\n",
      "(0, 1, -49.922287907688222, 1869.8789096636012, 1485.8651543930757, 3355.744064056677, -3405.6663519643653)\n",
      "(1, 0, -401.99786050596038, 12.199028424454465, 16.877839398008973, 29.076867822463438, -431.07472832842382)\n",
      "(1, 1, -54.936998206635629, 1822.8042636989708, 1471.137504913662, 3293.9417686126326, -3348.8787668192681)\n",
      "(2, 0, -401.99786050596038, 12.199028424454465, 29.70302712903986, 41.902055553494321, -443.89991605945471)\n",
      "(2, 1, -54.896886305318716, 1899.119826683559, 1477.4104326886404, 3376.5302593721995, -3431.4271456775182)\n",
      "(3, 0, -401.99786050596038, 12.199028424454465, 20.80231651269014, 33.001344937144609, -434.99920544310498)\n",
      "(3, 1, -48.133140165274483, 1994.1709587762273, 1494.748399385657, 3488.9193581618842, -3537.0524983271589)\n",
      "(4, 0, -401.99786050596038, 12.199028424454465, 18.893529252313883, 31.092557676768347, -433.09041818272874)\n",
      "(4, 1, -51.772128834610506, 1881.0893721392185, 1491.3370558640527, 3372.4264280032712, -3424.1985568378818)\n",
      "(5, 0, -401.99786050596038, 12.199028424454465, -8.837344429976639, 3.3616839944778256, -405.35954450043818)\n",
      "(5, 1, -51.674911486754866, 1815.2557715471578, 1488.8026854067375, 3304.0584569538951, -3355.7333684406499)\n",
      "(6, 0, -401.99786050596038, 12.199028424454465, -12.003795063183379, 0.19523336127108593, -402.19309386723148)\n",
      "(6, 1, -46.492165426272557, 2020.6615218426864, 1492.5876403286843, 3513.2491621713707, -3559.7413275976432)\n",
      "(7, 0, -401.99786050596038, 12.199028424454465, 24.529237515072147, 36.728265939526608, -438.72612644548701)\n",
      "(7, 1, -50.829171891383346, 1878.5223036590507, 1490.5802796714456, 3369.1025833304966, -3419.9317552218799)\n",
      "(8, 0, -401.99786050596038, 12.199028424454465, 34.150269698750229, 46.34929812320469, -448.34715862916505)\n",
      "(8, 1, -43.003174340079184, 2027.4515169181311, 1507.9135019983446, 3535.3650189164755, -3578.3681932565546)\n",
      "(9, 0, -401.99786050596038, 12.199028424454465, 2.0782423799899434, 14.277270804444408, -416.27513131040479)\n",
      "(9, 1, -53.363895582054951, 1901.4135935913996, 1487.7103787537894, 3389.123972345189, -3442.4878679272438)\n",
      "(10, 0, -401.99786050596038, 12.199028424454465, -8.4072413331545199, 3.7917870912999447, -405.78964759726034)\n",
      "(10, 1, -53.089632907666406, 1919.4196527689749, 1488.5342738070476, 3407.9539265760222, -3461.0435594836886)\n",
      "(11, 0, -401.99786050596038, 12.199028424454465, -39.820414034764745, -27.621385610310281, -374.37647489565012)\n",
      "(11, 1, -49.485280990566515, 1948.7309076474357, 1495.4702448621626, 3444.2011525095986, -3493.6864335001651)\n",
      "(12, 0, -401.99786050596038, 12.199028424454465, -16.939261989503155, -4.7402335650486904, -397.25762694091168)\n",
      "(12, 1, -55.757065052183705, 1808.3100671867642, 1474.7181247852591, 3283.0281919720233, -3338.7852570242071)\n",
      "(13, 0, -401.99786050596038, 12.199028424454465, 24.516624411552613, 36.715652836007081, -438.71351334196743)\n",
      "(13, 1, -53.111315585409521, 1806.7756299325688, 1492.2530946786567, 3299.0287246112257, -3352.1400401966353)\n",
      "(14, 0, -401.99786050596038, 12.199028424454465, 21.800856351602185, 33.999884776056646, -435.99774528201704)\n",
      "(14, 1, -46.095096060853251, 2013.9563523263785, 1508.2859955318252, 3522.2423478582036, -3568.337443919057)\n",
      "(15, 0, -401.99786050596038, 12.199028424454465, 34.362176151786691, 46.561204576241153, -448.55906508220153)\n",
      "(15, 1, -55.039253279017814, 1874.8745748693482, 1474.753525764366, 3349.628100633714, -3404.6673539127319)\n",
      "(16, 0, -401.99786050596038, 12.199028424454465, 10.268109486520942, 22.467137910975406, -424.46499841693577)\n",
      "(16, 1, -59.552571445842069, 1812.4704324323998, 1472.5736928699721, 3285.0441253023719, -3344.5966967482141)\n",
      "(17, 0, -401.99786050596038, 12.199028424454465, -10.138460844687842, 2.060567579766623, -404.05842808572697)\n",
      "(17, 1, -56.288538859020619, 1863.026438682316, 1471.9060814536126, 3334.9325201359288, -3391.2210589949495)\n",
      "(18, 0, -401.99786050596038, 12.199028424454465, 27.859732790166717, 40.058761214621185, -442.05662172058157)\n",
      "(18, 1, -56.121109390743676, 1872.5628134487497, 1479.3045623708188, 3351.8673758195682, -3407.9884852103119)\n",
      "(19, 0, -401.99786050596038, 12.199028424454465, -10.291559333536021, 1.9074690909184433, -403.9053295968788)\n",
      "(19, 1, -52.346093946429008, 1911.4654522718315, 1493.3962695538551, 3404.8617218256868, -3457.2078157721157)\n",
      "2\n",
      "(0, 2, -14.686477055976882, 2030.797322925665, 1511.8032713108098, 3542.6005942364745, -3557.2870712924514)\n",
      "(1, 2, -15.050133821933725, 1991.1684672895369, 1514.0064435356378, 3505.1749108251747, -3520.2250446471085)\n",
      "(2, 2, -11.246186332851469, 2059.8848449618954, 1524.3154553927966, 3584.200300354692, -3595.4464866875433)\n",
      "(3, 2, -8.6664908312921618, 2193.8433560713684, 1520.9014159199439, 3714.7447719913125, -3723.4112628226048)\n",
      "(4, 2, -11.797248076200484, 2075.5218165919227, 1518.2610821587136, 3593.7828987506364, -3605.5801468268369)\n",
      "(5, 2, -15.701330611936408, 1987.2628085924648, 1515.7180999401742, 3502.9809085326388, -3518.6822391445753)\n",
      "(6, 2, -7.2663053678436169, 2228.9638939695842, 1524.7507908166499, 3753.7146847862341, -3760.9809901540775)\n",
      "(7, 2, -11.993979378867408, 2037.9087060164511, 1521.8545513116705, 3559.7632573281217, -3571.7572367069893)\n",
      "(8, 2, -8.7828088626741554, 2235.0103244597149, 1519.5199500759716, 3754.5302745356867, -3763.313083398361)\n",
      "(9, 2, -13.146856002697591, 2072.3057490025922, 1519.4452196118343, 3591.7509686144267, -3604.8978246171241)\n",
      "(10, 2, -12.542223126890079, 2099.3075304489876, 1532.5519960731549, 3631.8595265221425, -3644.4017496490324)\n",
      "(11, 2, -11.032927686956988, 2135.0580161601356, 1524.9586046584327, 3660.0166208185683, -3671.0495485055253)\n",
      "(12, 2, -14.814847653989283, 1997.0016183565667, 1515.0750957092048, 3512.0767140657717, -3526.8915617197608)\n",
      "(13, 2, -15.042819711206308, 1987.0943671074829, 1518.8406562667103, 3505.9350233741934, -3520.9778430853999)\n",
      "(14, 2, -8.5259781190843835, 2235.5267193912637, 1519.3937759787889, 3754.9204953700528, -3763.4464734891371)\n",
      "(15, 2, -12.190899776135868, 2064.7768297753432, 1529.1704404594147, 3593.947270234758, -3606.1381700108936)\n",
      "(16, 2, -13.257816305913076, 2012.5738014707565, 1512.6717199885481, 3525.2455214593047, -3538.5033377652176)\n",
      "(17, 2, -12.861774279840775, 2071.4474081072531, 1507.6436087429115, 3579.0910168501646, -3591.9527911300052)\n",
      "(18, 2, -17.871992992496946, 2071.8229828127614, 1504.3221102998352, 3576.1450931125964, -3594.0170861050933)\n",
      "(19, 2, -12.794283809466144, 2117.2830714881457, 1518.4530758189123, 3635.7361473070578, -3648.5304311165237)\n",
      "3\n",
      "(0, 3, -14.876654678562309, 2036.9172619700546, 1509.1376554154101, 3546.0549173854647, -3560.931572064027)\n",
      "(1, 3, -14.430771714143059, 1998.1511871620885, 1511.9190702771239, 3510.0702574392126, -3524.5010291533558)\n",
      "(2, 3, -11.36685574119528, 2060.2537014967575, 1524.0350072675421, 3584.2887087642994, -3595.6555645054946)\n",
      "(3, 3, -8.7168153291801396, 2194.5601424711185, 1520.5216900734085, 3715.0818325445271, -3723.7986478737071)\n",
      "(4, 3, -11.844697295952775, 2076.9899710964191, 1517.5256716254112, 3594.5156427218303, -3606.3603400177831)\n",
      "(5, 3, -15.289294667888571, 1999.7775153021548, 1510.7767158550989, 3510.5542311572535, -3525.843525825142)\n",
      "(6, 3, -7.2848308150094754, 2229.7488292775497, 1524.3725859601768, 3754.1214152377265, -3761.4062460527362)\n",
      "(7, 3, -12.10116243740965, 2041.5091495390848, 1520.172036190336, 3561.6811857294206, -3573.7823481668302)\n",
      "(8, 3, -8.8365577610353316, 2240.0406210643305, 1517.2624893250563, 3757.3031103893868, -3766.139668150422)\n",
      "(9, 3, -13.81583350754001, 2075.6308732490393, 1517.42466769919, 3593.0555409482295, -3606.8713744557695)\n",
      "(10, 3, -12.761636660254894, 2099.9356923884152, 1532.2123473713075, 3632.1480397597225, -3644.9096764199771)\n",
      "(11, 3, -10.968171667390008, 2139.057315437271, 1523.2131439143777, 3662.2704593516487, -3673.2386310190386)\n",
      "(12, 3, -14.128453981939639, 2009.390026067932, 1510.9210264862443, 3520.3110525541761, -3534.4395065361159)\n",
      "(13, 3, -14.306040028432971, 1997.046709851988, 1515.4355063157082, 3512.4822161676962, -3526.7882561961292)\n",
      "(14, 3, -8.3794385905609143, 2238.1697316922418, 1518.3160201277201, 3756.4857518199619, -3764.8651904105227)\n",
      "(15, 3, -12.423377788086629, 2066.215694161961, 1528.3197366636384, 3594.5354308255992, -3606.958808613686)\n",
      "(16, 3, -13.625453260208344, 2014.7195171612643, 1511.6135564115493, 3526.3330735728136, -3539.958526833022)\n"
     ]
    },
    {
     "name": "stdout",
     "output_type": "stream",
     "text": [
      "(17, 3, -13.064144508022515, 2075.7428954420134, 1505.5019317974038, 3581.2448272394172, -3594.3089717474395)\n",
      "(18, 3, -17.333905130456014, 2090.4228251745812, 1496.8966029872643, 3587.3194281618453, -3604.6533332923013)\n",
      "(19, 3, -12.513803113136564, 2122.0747852151617, 1516.5422487532453, 3638.6170339684068, -3651.1308370815432)\n",
      "4\n",
      "(0, 4, -14.890682476724132, 2037.0264836433473, 1509.0701597285465, 3546.0966433718941, -3560.9873258486182)\n",
      "(1, 4, -14.404523400383152, 1998.7665611415568, 1511.655684392384, 3510.4222455339409, -3524.8267689343243)\n",
      "(2, 4, -11.368298563024224, 2060.2676909869037, 1524.0266017129225, 3584.2942926998262, -3595.6625912628506)\n",
      "(3, 4, -8.7157131981763065, 2194.5607941415351, 1520.5224735053725, 3715.0832676469076, -3723.7989808450839)\n",
      "(4, 4, -11.842385439575111, 2076.9823926253566, 1517.5318011251068, 3594.5141937504632, -3606.3565791900382)\n",
      "(5, 4, -14.99959804583782, 2002.00848426384, 1510.0185891991362, 3512.0270734629762, -3527.0266715088142)\n",
      "(6, 4, -7.2816075182976903, 2229.7312401231966, 1524.3853412546896, 3754.1165813778862, -3761.3981888961839)\n",
      "(7, 4, -12.105112610059003, 2041.7123123067129, 1520.0679608161672, 3561.7802731228803, -3573.8853857329395)\n",
      "(8, 4, -8.8420051564715738, 2240.1595031709949, 1517.1981525116762, 3757.3576556826711, -3766.1996608391428)\n",
      "(9, 4, -13.801024159884932, 2075.8165578576313, 1517.352655500451, 3593.1692133580823, -3606.9702375179672)\n",
      "(10, 4, -12.819395386314113, 2100.0275827129853, 1532.1246133133895, 3632.1521960263749, -3644.9715914126891)\n",
      "(11, 4, -10.970741413773149, 2139.199884402924, 1523.1395981789553, 3662.3394825818796, -3673.3102239956529)\n",
      "(12, 4, -14.126532508484189, 2009.8173824569985, 1510.7150707448598, 3520.5324532018585, -3534.6589857103427)\n",
      "(13, 4, -14.133213330916776, 1998.5469314554721, 1514.8940293331757, 3513.4409607886478, -3527.5741741195648)\n",
      "(14, 4, -8.3810641657203035, 2238.2079021199015, 1518.2953810911999, 3756.5032832111015, -3764.8843473768216)\n",
      "(15, 4, -12.44437838775028, 2066.2787757026958, 1528.2681616901684, 3594.5469373928645, -3606.991315780615)\n",
      "(16, 4, -13.614383648632373, 2014.8190314124085, 1511.5792988670607, 3526.3983302794695, -3540.0127139281017)\n",
      "(17, 4, -13.037248092186941, 2075.84785458852, 1505.4783505182975, 3581.3262051068177, -3594.3634531990047)\n",
      "(18, 4, -16.907886252129796, 2094.9098979460869, 1495.2212708710488, 3590.1311688171354, -3607.039055069265)\n",
      "(19, 4, -12.451826126367044, 2122.5098160134316, 1516.38992287615, 3638.8997388895814, -3651.3515650159484)\n",
      "5\n",
      "(0, 5, -14.893194234208687, 2037.037805381822, 1509.0620437848715, 3546.0998491666933, -3560.993043400902)\n",
      "(1, 5, -14.404788824605401, 1998.8159862998873, 1511.6308490989202, 3510.4468353988077, -3524.8516242234132)\n",
      "(2, 5, -11.368776725673746, 2060.268967708158, 1524.0254854338264, 3584.2944531419844, -3595.6632298676582)\n",
      "(3, 5, -8.7156986730148045, 2194.5607930058559, 1520.5224886003218, 3715.0832816061775, -3723.7989802791922)\n",
      "(4, 5, -11.842480856581689, 2076.9819888308416, 1517.5319076833046, 3594.5138965141459, -3606.3563773707278)\n",
      "(5, 5, -14.940302971418451, 2002.3620794992864, 1509.9034064441248, 3512.2654859434115, -3527.20578891483)\n",
      "(6, 5, -7.2809193844889872, 2229.7226321661369, 1524.3903918313426, 3754.1130239974796, -3761.3939433819687)\n",
      "(7, 5, -12.107086966305825, 2041.722560650431, 1520.0608916791875, 3561.7834523296187, -3573.8905392959246)\n",
      "(8, 5, -8.8421836629586394, 2240.1630468759295, 1517.1962028245725, 3757.359249700502, -3766.2014333634606)\n",
      "(9, 5, -13.801702374785904, 2075.8402551026979, 1517.3403539280048, 3593.1806090307027, -3606.9823114054884)\n",
      "(10, 5, -12.829549874331542, 2100.0624107617623, 1532.0982006833058, 3632.1606114450678, -3644.9901613193992)\n",
      "(11, 5, -10.970747167103912, 2139.2141978069812, 1523.132439300656, 3662.3466371076374, -3673.3173842747415)\n",
      "(12, 5, -14.120871084626165, 2009.8249295133517, 1510.7171206750368, 3520.5420501883882, -3534.6629212730145)\n",
      "(13, 5, -14.109695141197523, 1998.7318521895163, 1514.8257550440796, 3513.5576072335962, -3527.6673023747935)\n",
      "(14, 5, -8.3811094495355043, 2238.2090335960902, 1518.2947701365451, 3756.5038037326353, -3764.8849131821707)\n",
      "(15, 5, -12.448763402227534, 2066.290566575552, 1528.2579439874207, 3594.5485105629728, -3606.9972739652003)\n",
      "(16, 5, -13.612123684372749, 2014.8235683240237, 1511.5794324265416, 3526.4030007505653, -3540.0151244349381)\n",
      "(17, 5, -13.036434557959492, 2075.8510926662439, 1505.477547052308, 3581.328639718552, -3594.3650742765117)\n",
      "(18, 5, -16.827917649076117, 2095.56817918877, 1494.9761499630508, 3590.5443291518209, -3607.3722468008968)\n",
      "(19, 5, -12.444684587207467, 2122.5669491277094, 1516.3685609401521, 3638.9355100678613, -3651.3801946550689)\n",
      "6\n",
      "(0, 6, -14.89379848663771, 2037.0403117874071, 1509.0601903478432, 3546.1005021352503, -3560.9943006218882)\n",
      "(1, 6, -14.404730116434108, 1998.8194168555392, 1511.629193233252, 3510.4486100887912, -3524.8533402052253)\n",
      "(2, 6, -11.368837075199471, 2060.2691086315422, 1524.0253546260399, 3584.2944632575818, -3595.6633003327811)\n",
      "(3, 6, -8.7156984776212578, 2194.5607930776259, 1520.5224887598326, 3715.0832818374583, -3723.7989803150795)\n",
      "(4, 6, -11.842490060115756, 2076.9819604522927, 1517.5319126692048, 3594.5138731214975, -3606.3563631816132)\n",
      "(5, 6, -14.932118153953224, 2002.4084161687931, 1509.888465600244, 3512.2968817690371, -3527.2289999229902)\n",
      "(6, 6, -7.2807123991074283, 2229.72017138089, 1524.3918336660427, 3754.1120050469326, -3761.39271744604)\n",
      "(7, 6, -12.107737656328199, 2041.7231032114969, 1520.0599719408774, 3561.7830751523743, -3573.8908128087023)\n",
      "(8, 6, -8.8421887658754468, 2240.163159295731, 1517.1961415125197, 3757.3593008082507, -3766.2014895741263)\n",
      "(9, 6, -13.802025020957196, 2075.8453378420318, 1517.3375054828812, 3593.1828433249129, -3606.9848683458699)\n",
      "(10, 6, -12.832018626208876, 2100.0727297702006, 1532.0906609136928, 3632.1633906838933, -3644.9954093101023)\n",
      "(11, 6, -10.97073430937364, 2139.2161097685325, 1523.1314962489025, 3662.3476060174353, -3673.318340326809)\n",
      "(12, 6, -14.120099038632343, 2009.8225406523732, 1510.719095152213, 3520.5416358045859, -3534.6617348432183)\n",
      "(13, 6, -14.107000636122883, 1998.7528291056028, 1514.8179698434355, 3513.5707989490384, -3527.6777995851612)\n",
      "(14, 6, -8.3811110370720687, 2238.2090677419123, 1518.2947514761595, 3756.5038192180718, -3764.8849302551439)\n",
      "(15, 6, -12.449780545329798, 2066.2933554688766, 1528.2555368054623, 3594.5488922743389, -3606.9986728196686)\n",
      "(16, 6, -13.612396515168143, 2014.8252181623589, 1511.5783434118803, 3526.4035615742391, -3540.0159580894074)\n",
      "(17, 6, -13.036411585135673, 2075.8511958491022, 1505.4775184356704, 3581.3287142847726, -3594.3651258699083)\n",
      "(18, 6, -16.819040787400056, 2095.6457388077852, 1494.9463041467357, 3590.5920429545208, -3607.4110837419207)\n",
      "(19, 6, -12.444009778697467, 2122.5759658260504, 1516.3647301476274, 3638.940695973678, -3651.3847057523753)\n",
      "7\n",
      "(0, 7, -14.893957050937349, 2037.0409670227, 1509.0597044525477, 3546.1006714752475, -3560.9946285261849)\n",
      "(1, 7, -14.404726466569022, 1998.8196703940932, 1511.6290701173043, 3510.4487405113978, -3524.8534669779669)\n",
      "(2, 7, -11.368844312751632, 2060.2691251397969, 1524.0253391344099, 3584.2944642742068, -3595.6633085869585)\n",
      "(3, 7, -8.7156984748050732, 2194.5607930807505, 1520.5224887610852, 3715.0832818418357, -3723.7989803166406)\n",
      "(4, 7, -11.842490387882114, 2076.9819594405922, 1517.5319128472868, 3594.5138722878792, -3606.3563626757614)\n",
      "(5, 7, -14.931073432942851, 2002.4143009213738, 1509.8865686399195, 3512.3008695612934, -3527.2319429942363)\n",
      "(6, 7, -7.2806544233361885, 2229.719491523259, 1524.3922319098474, 3754.1117234331064, -3761.3923778564426)\n",
      "(7, 7, -12.107929061578298, 2041.7231360466371, 1520.0597643001204, 3561.7829003467577, -3573.8908294083362)\n",
      "(8, 7, -8.842188910335242, 2240.1631629034987, 1517.1961395641756, 3757.3593024676743, -3766.2014913780095)\n",
      "(9, 7, -13.802115580933823, 2075.846616094494, 1517.3367769056961, 3593.1833930001903, -3606.9855085811241)\n",
      "(10, 7, -12.832675106553951, 2100.0756372216711, 1532.0885575335662, 3632.1641947552371, -3644.9968698617909)\n",
      "(11, 7, -10.970729934030585, 2139.216394830803, 1523.1313580948372, 3662.3477529256402, -3673.3184828596709)\n",
      "(12, 7, -14.119877397350946, 2009.8216821049712, 1510.7197466613006, 3520.5414287662716, -3534.6613061636226)\n"
     ]
    },
    {
     "name": "stdout",
     "output_type": "stream",
     "text": [
      "(13, 7, -14.106718175387211, 1998.7552007198872, 1514.8170666089957, 3513.5722673288828, -3527.6789855042703)\n",
      "(14, 7, -8.381111090361534, 2238.2090687779896, 1518.2947509048315, 3756.5038196828209, -3764.8849307731825)\n",
      "(15, 7, -12.450034916367517, 2066.2940632841187, 1528.2549288397008, 3594.5489921238195, -3606.9990270401872)\n",
      "(16, 7, -13.612621815707616, 2014.8258790257989, 1511.5777883375595, 3526.4036673633582, -3540.016289179066)\n",
      "(17, 7, -13.036410918863389, 2075.8511993555503, 1505.4775173487237, 3581.328716704274, -3594.3651276231376)\n",
      "(18, 7, -16.818177863868375, 2095.6547378596583, 1494.9426682766934, 3590.5974061363518, -3607.41558400022)\n",
      "(19, 7, -12.443970956698761, 2122.577832520637, 1516.3638358547742, 3638.9416683754112, -3651.3856393321098)\n",
      "8\n",
      "(0, 8, -14.893999282394072, 2037.041141723573, 1509.0595748911094, 3546.1007166146824, -3560.9947158970763)\n",
      "(1, 8, -14.40472665048844, 1998.8196910117451, 1511.629059624581, 3510.4487506363262, -3524.8534772868147)\n",
      "(2, 8, -11.368845179401189, 2060.2691271060889, 1524.0253372846141, 3584.2944643907031, -3595.663309570104)\n",
      "(3, 8, -8.7156984747536228, 2194.5607930808537, 1520.5224887610848, 3715.0832818419385, -3723.798980316692)\n",
      "(4, 8, -11.842490400067655, 2076.9819594062719, 1517.5319128522633, 3594.5138722585352, -3606.3563626586028)\n",
      "(5, 8, -14.930941653848917, 2002.4150456912453, 1509.8863280452124, 3512.3013737364577, -3527.2323153903067)\n",
      "(6, 8, -7.2806383812455557, 2229.7193040916191, 1524.392341693567, 3754.1116457851858, -3761.3922841664312)\n",
      "(7, 8, -12.107983830847521, 2041.7231392529538, 1520.059707942459, 3561.7828471954126, -3573.89083102626)\n",
      "(8, 8, -8.8421889144680517, 2240.1631630203474, 1517.1961395016197, 3757.359302521967, -3766.2014914364349)\n",
      "(9, 8, -13.802139372268304, 2075.8469488392134, 1517.3365868211495, 3593.1835356603628, -3606.9856750326312)\n",
      "(10, 8, -12.832854994124263, 2100.0764475156407, 1532.0879730263948, 3632.1644205420353, -3644.9972755361596)\n",
      "(11, 8, -10.970728848746401, 2139.2164392533186, 1523.1313369689085, 3662.3477762222274, -3673.318505070974)\n",
      "(12, 8, -14.119814763991503, 2009.8214333448373, 1510.7199337198908, 3520.5413670647281, -3534.6611818287197)\n",
      "(13, 8, -14.106690809982572, 1998.7554715478966, 1514.8169585618705, 3513.5724301097671, -3527.6791209197495)\n",
      "(14, 8, -8.3811110920942458, 2238.2090688095141, 1518.2947508873369, 3756.5038196968508, -3764.884930788945)\n",
      "(15, 8, -12.450100818849288, 2066.2942479113422, 1528.2547706458638, 3594.5490185572062, -3606.9991193760557)\n",
      "(16, 8, -13.612707338833628, 2014.8260990393549, 1511.5775928602227, 3526.4036918995776, -3540.0163992384114)\n",
      "(17, 8, -13.036410898513957, 2075.8511994758255, 1505.4775173089333, 3581.3287167847589, -3594.3651276832729)\n",
      "(18, 8, -16.818101956494999, 2095.6558022399213, 1494.9422120037855, 3590.5980142437065, -3607.4161162002015)\n",
      "(19, 8, -12.443977750730761, 2122.5783161366876, 1516.3635872754676, 3638.9419034121552, -3651.3858811628861)\n",
      "9\n",
      "(0, 9, -14.894010557245698, 2037.041188388836, 1509.0595402850884, 3546.1007286739241, -3560.9947392311697)\n",
      "(1, 9, -14.404726709362802, 1998.8196928100333, 1511.6290586665621, 3510.4487514765951, -3524.853478185958)\n",
      "(2, 9, -11.368845283218571, 2060.2691273413211, 1524.0253370631804, 3584.2944644045015, -3595.6633096877199)\n",
      "(3, 9, -8.7156984747523634, 2194.5607930808574, 1520.5224887610843, 3715.0832818419417, -3723.7989803166943)\n",
      "(4, 9, -11.842490400728025, 2076.981959404065, 1517.5319128527062, 3594.5138722567713, -3606.3563626574992)\n",
      "(5, 9, -14.930925066489825, 2002.4151399348157, 1509.8862975109657, 3512.3014374457816, -3527.2323625122713)\n",
      "(6, 9, -7.280633953249847, 2229.7192524074931, 1524.3923719655902, 3754.111624373083, -3761.3922583263329)\n",
      "(7, 9, -12.107999424592661, 2041.7231398348649, 1520.0596920589549, 3561.78283189382, -3573.8908313184124)\n",
      "(8, 9, -8.842188914586389, 2240.1631630241527, 1517.1961394995976, 3757.3593025237506, -3766.2014914383371)\n",
      "(9, 9, -13.802145635054639, 2075.8470364950267, 1517.3365367361071, 3593.1835732311338, -3606.9857188661886)\n",
      "(10, 9, -12.832904769682058, 2100.0766728494218, 1532.0878106247073, 3632.1644834741292, -3644.9973882438112)\n",
      "(11, 9, -10.970728621138825, 2139.2164463516424, 1523.1313336473561, 3662.3477799989987, -3673.3185086201374)\n",
      "(12, 9, -14.119797372923868, 2009.821363770573, 1510.7199859015279, 3520.5413496721012, -3534.6611470450252)\n",
      "(13, 9, -14.106688400510158, 1998.7555028733823, 1514.8169453086218, 3513.5724481820043, -3527.6791365825143)\n",
      "(14, 9, -8.3811110921495988, 2238.2090688104736, 1518.2947508868019, 3756.5038196972755, -3764.8849307894252)\n",
      "(15, 9, -12.450118169766506, 2066.2942966619926, 1528.2547289212048, 3594.5490255831974, -3606.9991437529638)\n",
      "(16, 9, -13.612734735025363, 2014.8261663762719, 1511.5775317998346, 3526.4036981761064, -3540.0164329111317)\n",
      "(17, 9, -13.036410897872585, 2075.8511994799269, 1505.4775173075261, 3581.3287167874532, -3594.3651276853257)\n",
      "(18, 9, -16.81809658062329, 2095.655931775133, 1494.9421526121985, 3590.5980843873313, -3607.4161809679545)\n",
      "(19, 9, -12.443981982832032, 2122.578457504103, 1516.3635123619295, 3638.9419698660322, -3651.3859518488644)\n",
      "10\n",
      "(0, 10, -14.894013568717497, 2037.0412008550447, 1509.0595310406145, 3546.100731895659, -3560.9947454643766)\n",
      "(1, 10, -14.404726718924371, 1998.8196929774308, 1511.6290585733016, 3510.4487515507326, -3524.853478269657)\n",
      "(2, 10, -11.368845295656952, 2060.2691273694954, 1524.0253370366552, 3584.2944644061508, -3595.663309701808)\n",
      "(3, 10, -8.7156984747523278, 2194.5607930808574, 1520.5224887610843, 3715.0832818419417, -3723.7989803166938)\n",
      "(4, 10, -11.842490400762079, 2076.9819594039318, 1517.5319128527381, 3594.5138722566699, -3606.3563626574319)\n",
      "(5, 10, -14.930922980149187, 2002.4151518625085, 1509.8862936334594, 3512.301445495968, -3527.2323684761172)\n",
      "(6, 10, -7.2806327317240029, 2229.7192381535765, 1524.3923803142236, 3754.1116184678003, -3761.3922511995243)\n",
      "(7, 10, -12.108003859932548, 2041.7231399809834, 1520.0596875506512, 3561.7828275316347, -3573.8908313915672)\n",
      "(8, 10, -8.8421889145897499, 2240.1631630242782, 1517.1961394995315, 3757.3593025238097, -3766.2014914383994)\n",
      "(9, 10, -13.802147293408943, 2075.8470597273035, 1517.3365234620169, 3593.1835831893204, -3606.9857304827292)\n",
      "(10, 10, -12.832918586807414, 2100.0767354930317, 1532.0877654889296, 3632.1645009819613, -3644.9974195687687)\n",
      "(11, 10, -10.970728577352014, 2139.2164475031468, 1523.1313331153901, 3662.3477806185369, -3673.318509195889)\n",
      "(12, 10, -14.119792564953149, 2009.8213444853316, 1510.7200003523803, 3520.5413448377121, -3534.6611374026652)\n",
      "(13, 10, -14.106688228744106, 1998.7555065500624, 1514.8169436420496, 3513.5724501921122, -3527.6791384208564)\n",
      "(14, 10, -8.3811110921513468, 2238.209068810505, 1518.2947508867856, 3756.5038196972905, -3764.884930789442)\n",
      "(15, 10, -12.45012277131026, 2066.2943096069921, 1528.2547178472737, 3594.5490274542658, -3606.9991502255762)\n",
      "(16, 10, -13.612742972488888, 2014.8261862342188, 1511.577513633747, 3526.4036998679658, -3540.0164428404546)\n",
      "(17, 10, -13.036410897852077, 2075.8511994800651, 1505.4775173074779, 3581.3287167875433, -3594.3651276853952)\n",
      "(18, 10, -16.818096457843232, 2095.6559480969436, 1494.9421445740763, 3590.5980926710199, -3607.4161891288632)\n",
      "(19, 10, -12.443983548952215, 2122.5785009508045, 1516.3634890726855, 3638.9419900234898, -3651.3859735724418)\n"
     ]
    }
   ],
   "source": [
    "import math\n",
    "\n",
    "theta_H = 0.8\n",
    "theta_X = 2\n",
    "npQ = np.dstack([np.array(dfInit)] * len(binarized_images))\n",
    "\n",
    "def getNeighbors(r,c,img):\n",
    "    #r1 = c\n",
    "    #c1 = r\n",
    "    #r = r1\n",
    "    #c = c1\n",
    "    \n",
    "    ## left neighbor\n",
    "    x = r - 1\n",
    "    y = c \n",
    "    if (x >= 0):\n",
    "        left = npQ[x,y,img]\n",
    "    else: \n",
    "        left = None\n",
    "    \n",
    "    #print(img, r, c, x, y, left)\n",
    "    \n",
    "    ## right neighbor\n",
    "    x = r + 1\n",
    "    y = c\n",
    "    if (x < 28):\n",
    "        right = npQ[x,y,img]\n",
    "    else: \n",
    "        right = None\n",
    "\n",
    "    ## upper neighbor\n",
    "    x = r \n",
    "    y = c - 1\n",
    "\n",
    "    if (y >= 0):\n",
    "        up = npQ[x,y,img]\n",
    "    else: \n",
    "        up = None\n",
    "\n",
    "    ## lower neighbor\n",
    "    x = r\n",
    "    y = c + 1\n",
    "\n",
    "    if (y < 28):\n",
    "        down = npQ[x,y,img]\n",
    "    else: \n",
    "        down = None\n",
    "    \n",
    "    ## center\n",
    "    #x = r\n",
    "    #y = c\n",
    "    #center = npQ[x,y,img]\n",
    "    \n",
    "    \n",
    "    #list = [left, right, up, down, center]\n",
    "    \n",
    "    list = [left, right, up, down]    \n",
    "    \n",
    "    return [x for x in list if x is not None]\n",
    "\n",
    "\n",
    "vfe = np.zeros((20,11)) \n",
    "npLogQ = np.zeros((20,11))\n",
    "npLogP = np.zeros((20,11))\n",
    "\n",
    "c = 10e-10\n",
    "\n",
    "def calcVFE(img, npQ, epoch):\n",
    "    \n",
    "    ## calculate the VFE for initial Q and after each iteration\n",
    "    logP = 0.0\n",
    "    logQ = 0.0\n",
    "    sumH = 0.0\n",
    "    sumX = 0.0\n",
    "    \n",
    "    for x in range(28):\n",
    "        for y in range(28):            \n",
    "            \n",
    "            #print(x, y, img, npQ[x,y,img], np.log(npQ[x,y,img] +c))\n",
    "            logQ += ((npQ[x,y,img] * np.log((npQ[x,y,img]) + c)) + ((1 - npQ[x,y,img]) * (np.log(1 - (npQ[x,y,img]) + c))))\n",
    "            #logQ += (npQ[x,y,img] * np.log(npQ[x,y,img] + c)) + ((1 - npQ[x,y,img]) * (1 - (np.log(npQ[x,y,img]) + c)))\n",
    "\n",
    "            #print(x, y, img, npQ[x,y,img], np.log(npQ[x,y,img] +c), 1 - npQ[x,y,img], np.log(1 - (npQ[x,y,img]) + c))\n",
    "            \n",
    "            neighbors = getNeighbors(x,y,img)\n",
    "\n",
    "            #print(img, neighbors, reduce(lambda a, b: a*b, neighbors))\n",
    "\n",
    "            #sumH += theta_H * (2 * npQ[x,y,img] - 1)  * reduce(lambda a, b: a*b, (2 * neighbors - 1))        \n",
    "            \n",
    "            ##for all pixels i\n",
    "            ##for all neighbors of pixel i -> j\n",
    "            ##sum(theta2 * (2 * H[i] - 1) * H[j]\n",
    "            \n",
    "            #sumH += theta_H * (2 * npQ[x,y,img] - 1)\n",
    "            \n",
    "            for neighbor in neighbors:            \n",
    "                sumH += theta_H  * (2 * npQ[x,y,img] - 1) * (2 * neighbor - 1) \n",
    "            \n",
    "            ##for all pixels i\n",
    "            ##for all neighbors of pixel i -> j\n",
    "            ##sum(theta2 * (2 * H[i] - 1) * X[j]\n",
    "            \n",
    "            sumX += theta_X * (2 * npQ[x,y,img] - 1) * noisy_images[img,x,y]\n",
    "            \n",
    "            #print(img, epoch, logQ, sumH, sumX, sumH + sumX)\n",
    "    \n",
    "    logP = sumH + sumX\n",
    "    vfe[img,epoch] = logQ - logP\n",
    "    npLogQ[img,epoch] = logQ\n",
    "    npLogP[img,epoch] = logP\n",
    "    \n",
    "    #print(img, epoch, logQ, sumH, sumX, logP, logQ - logP)\n",
    "    \n",
    "    \n",
    "## do this for 10 iterations\n",
    "epochs = range(10)\n",
    "\n",
    "for epoch in epochs:\n",
    "    print(epoch + 1)\n",
    "    \n",
    "    for i in range(0,40,2):\n",
    "        img = i/2              \n",
    "        \n",
    "        if (epoch == 0):\n",
    "            calcVFE(img, npQ, epoch)\n",
    "        \n",
    "        for j in range(1,785):\n",
    "\n",
    "            ## read the pixel value from the img with X,Y given by UpdateOrderCoordinates\n",
    "            x = dfUpdate.iloc[i,j]\n",
    "            y = dfUpdate.iloc[i + 1, j]\n",
    "\n",
    "            ## observed value of X_i\n",
    "            obsval = noisy_images[img,x,y]\n",
    "\n",
    "            ## neighbors of the pixel at X,Y\n",
    "            neighbors = getNeighbors(x,y,img)\n",
    "\n",
    "            #print(img, x, y, neighbors)\n",
    "\n",
    "            ## calculate pi_i\n",
    "            sumH = 0.0\n",
    "            sumX = 0.0\n",
    "            sumHInv = 0.0\n",
    "            sumXInv = 0.0\n",
    "            \n",
    "            for neighbor in neighbors:            \n",
    "                sumH += theta_H * ((2 * neighbor) - 1)\n",
    "                sumHInv += -1 * theta_H * ((2 * neighbor) - 1)\n",
    "                #print(neighbor, num1, den1)\n",
    "            \n",
    "            sumX = theta_X * obsval\n",
    "            sumXInv = -1 * theta_X * obsval\n",
    "            \n",
    "            e1 = math.exp((sumH + sumX))\n",
    "            e2 = math.exp((sumHInv + sumXInv))\n",
    "                         \n",
    "            #den1 = -1 * (theta_X * ( 2 * obsval - 1 ))\n",
    "            \n",
    "\n",
    "            #numerator = math.exp((num1 + num2))\n",
    "            #denomenator = numerator + math.exp(-1 * (num1 + den1))\n",
    "\n",
    "            #pi_i = numerator / denomenator\n",
    "            \n",
    "            pi_i = e1 / (e1 + e2)\n",
    "                         \n",
    "            npQ[x,y,img] = pi_i\n",
    "            \n",
    "    \n",
    "        calcVFE(img, npQ, epoch+1)\n",
    "        "
   ]
  },
  {
   "cell_type": "code",
   "execution_count": 48,
   "metadata": {},
   "outputs": [
    {
     "data": {
      "image/png": "[encoded data removed]",
      "text/plain": [
       "<Figure size 432x288 with 1 Axes>"
      ]
     },
     "metadata": {},
     "output_type": "display_data"
    }
   ],
   "source": [
    "#npQ[:,:,0]\n",
    "\n",
    "npQBin = npQ\n",
    "npQBin[npQBin < 0.50] = 0\n",
    "npQBin[npQBin >= 0.50] = 1\n",
    "\n",
    "#img = pd.DataFrame(npQ[:,:])\n",
    "#img[img < 0.5] = -1\n",
    "#img[img >= 0.5] = 1\n",
    "\n",
    "plt.imshow(npQBin[:,:,0], cmap='gray')\n",
    "plt.show()"
   ]
  },
  {
   "cell_type": "code",
   "execution_count": 49,
   "metadata": {},
   "outputs": [
    {
     "data": {
      "image/png": "[encoded data removed]",
      "text/plain": [
       "<Figure size 432x288 with 1 Axes>"
      ]
     },
     "metadata": {},
     "output_type": "display_data"
    }
   ],
   "source": [
    "plt.imshow(npQBin[:,:,1], cmap='gray')\n",
    "plt.show()"
   ]
  },
  {
   "cell_type": "code",
   "execution_count": 50,
   "metadata": {
    "hideOutput": true
   },
   "outputs": [
    {
     "data": {
      "text/html": [
       "<div>\n",
       "<style scoped>\n",
       "    .dataframe tbody tr th:only-of-type {\n",
       "        vertical-align: middle;\n",
       "    }\n",
       "\n",
       "    .dataframe tbody tr th {\n",
       "        vertical-align: top;\n",
       "    }\n",
       "\n",
       "    .dataframe thead th {\n",
       "        text-align: right;\n",
       "    }\n",
       "</style>\n",
       "<table border=\"1\" class=\"dataframe\">\n",
       "  <thead>\n",
       "    <tr style=\"text-align: right;\">\n",
       "      <th></th>\n",
       "      <th>0</th>\n",
       "      <th>1</th>\n",
       "      <th>2</th>\n",
       "      <th>3</th>\n",
       "      <th>4</th>\n",
       "      <th>5</th>\n",
       "      <th>6</th>\n",
       "      <th>7</th>\n",
       "      <th>8</th>\n",
       "      <th>9</th>\n",
       "      <th>...</th>\n",
       "      <th>270</th>\n",
       "      <th>271</th>\n",
       "      <th>272</th>\n",
       "      <th>273</th>\n",
       "      <th>274</th>\n",
       "      <th>275</th>\n",
       "      <th>276</th>\n",
       "      <th>277</th>\n",
       "      <th>278</th>\n",
       "      <th>279</th>\n",
       "    </tr>\n",
       "  </thead>\n",
       "  <tbody>\n",
       "    <tr>\n",
       "      <th>0</th>\n",
       "      <td>0</td>\n",
       "      <td>0</td>\n",
       "      <td>0</td>\n",
       "      <td>0</td>\n",
       "      <td>0</td>\n",
       "      <td>0</td>\n",
       "      <td>0</td>\n",
       "      <td>0</td>\n",
       "      <td>0</td>\n",
       "      <td>0</td>\n",
       "      <td>...</td>\n",
       "      <td>0</td>\n",
       "      <td>0</td>\n",
       "      <td>0</td>\n",
       "      <td>0</td>\n",
       "      <td>0</td>\n",
       "      <td>0</td>\n",
       "      <td>0</td>\n",
       "      <td>0</td>\n",
       "      <td>0</td>\n",
       "      <td>0</td>\n",
       "    </tr>\n",
       "    <tr>\n",
       "      <th>1</th>\n",
       "      <td>0</td>\n",
       "      <td>0</td>\n",
       "      <td>0</td>\n",
       "      <td>0</td>\n",
       "      <td>0</td>\n",
       "      <td>0</td>\n",
       "      <td>0</td>\n",
       "      <td>0</td>\n",
       "      <td>0</td>\n",
       "      <td>0</td>\n",
       "      <td>...</td>\n",
       "      <td>0</td>\n",
       "      <td>0</td>\n",
       "      <td>0</td>\n",
       "      <td>0</td>\n",
       "      <td>0</td>\n",
       "      <td>0</td>\n",
       "      <td>0</td>\n",
       "      <td>0</td>\n",
       "      <td>0</td>\n",
       "      <td>0</td>\n",
       "    </tr>\n",
       "  </tbody>\n",
       "</table>\n",
       "<p>2 rows × 280 columns</p>\n",
       "</div>"
      ],
      "text/plain": [
       "   0    1    2    3    4    5    6    7    8    9   ...   270  271  272  273  \\\n",
       "0    0    0    0    0    0    0    0    0    0    0 ...     0    0    0    0   \n",
       "1    0    0    0    0    0    0    0    0    0    0 ...     0    0    0    0   \n",
       "\n",
       "   274  275  276  277  278  279  \n",
       "0    0    0    0    0    0    0  \n",
       "1    0    0    0    0    0    0  \n",
       "\n",
       "[2 rows x 280 columns]"
      ]
     },
     "execution_count": 50,
     "metadata": {},
     "output_type": "execute_result"
    }
   ],
   "source": [
    "dfDenoised = pd.read_csv('/Users/eric/MCSDS/AML/mp8/SupplementaryAndSampleData/SampleDenoised.csv', header=None)\n",
    "dfDenoised.head(2)"
   ]
  },
  {
   "cell_type": "code",
   "execution_count": 51,
   "metadata": {},
   "outputs": [
    {
     "data": {
      "image/png": "[encoded data removed]",
      "text/plain": [
       "<Figure size 432x288 with 1 Axes>"
      ]
     },
     "metadata": {},
     "output_type": "display_data"
    },
    {
     "data": {
      "image/png": "[encoded data removed]",
      "text/plain": [
       "<Figure size 432x288 with 1 Axes>"
      ]
     },
     "metadata": {},
     "output_type": "display_data"
    },
    {
     "data": {
      "image/png": "[encoded data removed]",
      "text/plain": [
       "<Figure size 432x288 with 1 Axes>"
      ]
     },
     "metadata": {},
     "output_type": "display_data"
    },
    {
     "data": {
      "image/png": "[encoded data removed]",
      "text/plain": [
       "<Figure size 432x288 with 1 Axes>"
      ]
     },
     "metadata": {},
     "output_type": "display_data"
    },
    {
     "data": {
      "image/png": "[encoded data removed]",
      "text/plain": [
       "<Figure size 432x288 with 1 Axes>"
      ]
     },
     "metadata": {},
     "output_type": "display_data"
    },
    {
     "data": {
      "image/png": "[encoded data removed]",
      "text/plain": [
       "<Figure size 432x288 with 1 Axes>"
      ]
     },
     "metadata": {},
     "output_type": "display_data"
    },
    {
     "data": {
      "image/png": "[encoded data removed]",
      "text/plain": [
       "<Figure size 432x288 with 1 Axes>"
      ]
     },
     "metadata": {},
     "output_type": "display_data"
    },
    {
     "data": {
      "image/png": "[encoded data removed]",
      "text/plain": [
       "<Figure size 432x288 with 1 Axes>"
      ]
     },
     "metadata": {},
     "output_type": "display_data"
    },
    {
     "data": {
      "image/png": "[encoded data removed]",
      "text/plain": [
       "<Figure size 432x288 with 1 Axes>"
      ]
     },
     "metadata": {},
     "output_type": "display_data"
    },
    {
     "data": {
      "image/png": "[encoded data removed]",
      "text/plain": [
       "<Figure size 432x288 with 1 Axes>"
      ]
     },
     "metadata": {},
     "output_type": "display_data"
    }
   ],
   "source": [
    "npDen = np.array(dfDenoised)\n",
    "for i in range(0,279,28):\n",
    "    startcol = i\n",
    "    endcol = i + 28\n",
    "    plt.imshow(npDen[0:27,startcol:endcol], cmap=\"gray\")\n",
    "    plt.show()    \n"
   ]
  },
  {
   "cell_type": "code",
   "execution_count": null,
   "metadata": {},
   "outputs": [],
   "source": []
  },
  {
   "cell_type": "markdown",
   "metadata": {},
   "source": [
    "### Part 4: Turning in the energy function values computed initially and after each iteration"
   ]
  },
  {
   "cell_type": "code",
   "execution_count": 97,
   "metadata": {},
   "outputs": [
    {
     "data": {
      "text/plain": [
       "array([ -425.34792726, -3405.66635196, -3557.28707129, -3560.93157206,\n",
       "       -3560.98732585, -3560.9930434 , -3560.99430062, -3560.99462853,\n",
       "       -3560.9947159 , -3560.99473923])"
      ]
     },
     "execution_count": 97,
     "metadata": {},
     "output_type": "execute_result"
    }
   ],
   "source": [
    "vfe[0,0:10]"
   ]
  },
  {
   "cell_type": "code",
   "execution_count": 100,
   "metadata": {},
   "outputs": [],
   "source": [
    "np.savetxt('/Users/eric/MCSDS/AML/mp8/energy.csv', vfe[10:12,0:2], delimiter=',', fmt='%.12g')"
   ]
  },
  {
   "cell_type": "markdown",
   "metadata": {},
   "source": [
    "### Part 5: Displaying the reconstructed images"
   ]
  },
  {
   "cell_type": "code",
   "execution_count": 35,
   "metadata": {},
   "outputs": [
    {
     "data": {
      "image/png": "[encoded data removed]",
      "text/plain": [
       "<Figure size 432x288 with 1 Axes>"
      ]
     },
     "metadata": {},
     "output_type": "display_data"
    },
    {
     "data": {
      "image/png": "[encoded data removed]",
      "text/plain": [
       "<Figure size 432x288 with 1 Axes>"
      ]
     },
     "metadata": {},
     "output_type": "display_data"
    },
    {
     "data": {
      "image/png": "[encoded data removed]",
      "text/plain": [
       "<Figure size 432x288 with 1 Axes>"
      ]
     },
     "metadata": {},
     "output_type": "display_data"
    },
    {
     "data": {
      "image/png": "[encoded data removed]",
      "text/plain": [
       "<Figure size 432x288 with 1 Axes>"
      ]
     },
     "metadata": {},
     "output_type": "display_data"
    },
    {
     "data": {
      "image/png": "[encoded data removed]",
      "text/plain": [
       "<Figure size 432x288 with 1 Axes>"
      ]
     },
     "metadata": {},
     "output_type": "display_data"
    },
    {
     "data": {
      "image/png": "[encoded data removed]",
      "text/plain": [
       "<Figure size 432x288 with 1 Axes>"
      ]
     },
     "metadata": {},
     "output_type": "display_data"
    },
    {
     "data": {
      "image/png": "[encoded data removed]",
      "text/plain": [
       "<Figure size 432x288 with 1 Axes>"
      ]
     },
     "metadata": {},
     "output_type": "display_data"
    },
    {
     "data": {
      "image/png": "[encoded data removed]",
      "text/plain": [
       "<Figure size 432x288 with 1 Axes>"
      ]
     },
     "metadata": {},
     "output_type": "display_data"
    },
    {
     "data": {
      "image/png": "[encoded data removed]",
      "text/plain": [
       "<Figure size 432x288 with 1 Axes>"
      ]
     },
     "metadata": {},
     "output_type": "display_data"
    },
    {
     "data": {
      "image/png": "[encoded data removed]",
      "text/plain": [
       "<Figure size 432x288 with 1 Axes>"
      ]
     },
     "metadata": {},
     "output_type": "display_data"
    }
   ],
   "source": [
    "for i in range(10,20):\n",
    "    plt.imshow(npQBin[:,:,i], cmap='gray')\n",
    "    plt.show()"
   ]
  },
  {
   "cell_type": "code",
   "execution_count": 52,
   "metadata": {},
   "outputs": [
    {
     "data": {
      "text/plain": [
       "(28, 280)"
      ]
     },
     "execution_count": 52,
     "metadata": {},
     "output_type": "execute_result"
    }
   ],
   "source": [
    "arr = npQBin[:,:,10]\n",
    "\n",
    "for i in range(11,20):\n",
    "    a = npQBin[:,:,i]\n",
    "    arr = np.hstack((arr, a))\n",
    "    \n",
    "arr.shape"
   ]
  },
  {
   "cell_type": "code",
   "execution_count": 53,
   "metadata": {},
   "outputs": [
    {
     "data": {
      "image/png": "[encoded data removed]",
      "text/plain": [
       "<Figure size 432x288 with 1 Axes>"
      ]
     },
     "metadata": {},
     "output_type": "display_data"
    }
   ],
   "source": [
    "plt.imshow(arr[:,28:56], cmap='gray')\n",
    "plt.show()"
   ]
  },
  {
   "cell_type": "code",
   "execution_count": 57,
   "metadata": {},
   "outputs": [],
   "source": [
    "np.savetxt('/Users/eric/MCSDS/AML/mp8/denoised.csv', arr, delimiter=',', fmt=\"%i\")"
   ]
  }
 ],
 "metadata": {
  "kernelspec": {
   "display_name": "Python 2",
   "language": "python",
   "name": "python2"
  },
  "language_info": {
   "codemirror_mode": {
    "name": "ipython",
    "version": 2
   },
   "file_extension": ".py",
   "mimetype": "text/x-python",
   "name": "python",
   "nbconvert_exporter": "python",
   "pygments_lexer": "ipython2",
   "version": "2.7.14"
  }
 },
 "nbformat": 4,
 "nbformat_minor": 2
}
